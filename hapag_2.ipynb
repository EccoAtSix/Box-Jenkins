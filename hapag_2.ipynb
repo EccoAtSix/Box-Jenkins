{
  "nbformat": 4,
  "nbformat_minor": 0,
  "metadata": {
    "colab": {
      "provenance": [],
      "authorship_tag": "ABX9TyNfSJB3RlRw/YoPyPWcDP9t",
      "include_colab_link": true
    },
    "kernelspec": {
      "name": "python3",
      "display_name": "Python 3"
    },
    "language_info": {
      "name": "python"
    }
  },
  "cells": [
    {
      "cell_type": "markdown",
      "metadata": {
        "id": "view-in-github",
        "colab_type": "text"
      },
      "source": [
        "<a href=\"https://colab.research.google.com/github/EccoAtSix/Box-Jenkins/blob/main/hapag_2.ipynb\" target=\"_parent\"><img src=\"https://colab.research.google.com/assets/colab-badge.svg\" alt=\"Open In Colab\"/></a>"
      ]
    },
    {
      "cell_type": "code",
      "execution_count": null,
      "metadata": {
        "id": "pc5dr_vsFWjy"
      },
      "outputs": [],
      "source": [
        "import numpy as np\n",
        "import pandas as pd\n",
        "import matplotlib.pyplot as plt"
      ]
    },
    {
      "cell_type": "code",
      "source": [
        "hapag=pd.read_excel(\"/content/Base de datos.xlsx\",sheet_name=\"Hapag\",index_col=0)\n",
        "hapag.head()"
      ],
      "metadata": {
        "colab": {
          "base_uri": "https://localhost:8080/",
          "height": 237
        },
        "id": "Yiz4Z59VFi7s",
        "outputId": "afbde219-03e2-4327-a39e-dcbe3e31ac00"
      },
      "execution_count": null,
      "outputs": [
        {
          "output_type": "execute_result",
          "data": {
            "text/plain": [
              "              Validity To Container Type Currency All-in Rate  All-in Rate   \\\n",
              "Validity From                                                                 \n",
              "2021-12-01     2021-12-31           20GP                  USD          7696   \n",
              "2022-01-01     2022-01-20           20GP                  USD          7448   \n",
              "2022-01-21     2022-02-14           20GP                  USD          6448   \n",
              "2022-02-15     2022-02-20           20GP                  USD          6448   \n",
              "2022-02-21     2022-02-28           20GP                  USD          6448   \n",
              "\n",
              "              Currency Ocean Freight  Ocean Freight Rate  \n",
              "Validity From                                             \n",
              "2021-12-01                       USD                7696  \n",
              "2022-01-01                       USD                7448  \n",
              "2022-01-21                       USD                6448  \n",
              "2022-02-15                       USD                6448  \n",
              "2022-02-21                       USD                6448  "
            ],
            "text/html": [
              "\n",
              "  <div id=\"df-7347bade-5cb1-4793-8f3e-1c06cd9933ba\">\n",
              "    <div class=\"colab-df-container\">\n",
              "      <div>\n",
              "<style scoped>\n",
              "    .dataframe tbody tr th:only-of-type {\n",
              "        vertical-align: middle;\n",
              "    }\n",
              "\n",
              "    .dataframe tbody tr th {\n",
              "        vertical-align: top;\n",
              "    }\n",
              "\n",
              "    .dataframe thead th {\n",
              "        text-align: right;\n",
              "    }\n",
              "</style>\n",
              "<table border=\"1\" class=\"dataframe\">\n",
              "  <thead>\n",
              "    <tr style=\"text-align: right;\">\n",
              "      <th></th>\n",
              "      <th>Validity To</th>\n",
              "      <th>Container Type</th>\n",
              "      <th>Currency All-in Rate</th>\n",
              "      <th>All-in Rate</th>\n",
              "      <th>Currency Ocean Freight</th>\n",
              "      <th>Ocean Freight Rate</th>\n",
              "    </tr>\n",
              "    <tr>\n",
              "      <th>Validity From</th>\n",
              "      <th></th>\n",
              "      <th></th>\n",
              "      <th></th>\n",
              "      <th></th>\n",
              "      <th></th>\n",
              "      <th></th>\n",
              "    </tr>\n",
              "  </thead>\n",
              "  <tbody>\n",
              "    <tr>\n",
              "      <th>2021-12-01</th>\n",
              "      <td>2021-12-31</td>\n",
              "      <td>20GP</td>\n",
              "      <td>USD</td>\n",
              "      <td>7696</td>\n",
              "      <td>USD</td>\n",
              "      <td>7696</td>\n",
              "    </tr>\n",
              "    <tr>\n",
              "      <th>2022-01-01</th>\n",
              "      <td>2022-01-20</td>\n",
              "      <td>20GP</td>\n",
              "      <td>USD</td>\n",
              "      <td>7448</td>\n",
              "      <td>USD</td>\n",
              "      <td>7448</td>\n",
              "    </tr>\n",
              "    <tr>\n",
              "      <th>2022-01-21</th>\n",
              "      <td>2022-02-14</td>\n",
              "      <td>20GP</td>\n",
              "      <td>USD</td>\n",
              "      <td>6448</td>\n",
              "      <td>USD</td>\n",
              "      <td>6448</td>\n",
              "    </tr>\n",
              "    <tr>\n",
              "      <th>2022-02-15</th>\n",
              "      <td>2022-02-20</td>\n",
              "      <td>20GP</td>\n",
              "      <td>USD</td>\n",
              "      <td>6448</td>\n",
              "      <td>USD</td>\n",
              "      <td>6448</td>\n",
              "    </tr>\n",
              "    <tr>\n",
              "      <th>2022-02-21</th>\n",
              "      <td>2022-02-28</td>\n",
              "      <td>20GP</td>\n",
              "      <td>USD</td>\n",
              "      <td>6448</td>\n",
              "      <td>USD</td>\n",
              "      <td>6448</td>\n",
              "    </tr>\n",
              "  </tbody>\n",
              "</table>\n",
              "</div>\n",
              "      <button class=\"colab-df-convert\" onclick=\"convertToInteractive('df-7347bade-5cb1-4793-8f3e-1c06cd9933ba')\"\n",
              "              title=\"Convert this dataframe to an interactive table.\"\n",
              "              style=\"display:none;\">\n",
              "        \n",
              "  <svg xmlns=\"http://www.w3.org/2000/svg\" height=\"24px\"viewBox=\"0 0 24 24\"\n",
              "       width=\"24px\">\n",
              "    <path d=\"M0 0h24v24H0V0z\" fill=\"none\"/>\n",
              "    <path d=\"M18.56 5.44l.94 2.06.94-2.06 2.06-.94-2.06-.94-.94-2.06-.94 2.06-2.06.94zm-11 1L8.5 8.5l.94-2.06 2.06-.94-2.06-.94L8.5 2.5l-.94 2.06-2.06.94zm10 10l.94 2.06.94-2.06 2.06-.94-2.06-.94-.94-2.06-.94 2.06-2.06.94z\"/><path d=\"M17.41 7.96l-1.37-1.37c-.4-.4-.92-.59-1.43-.59-.52 0-1.04.2-1.43.59L10.3 9.45l-7.72 7.72c-.78.78-.78 2.05 0 2.83L4 21.41c.39.39.9.59 1.41.59.51 0 1.02-.2 1.41-.59l7.78-7.78 2.81-2.81c.8-.78.8-2.07 0-2.86zM5.41 20L4 18.59l7.72-7.72 1.47 1.35L5.41 20z\"/>\n",
              "  </svg>\n",
              "      </button>\n",
              "      \n",
              "  <style>\n",
              "    .colab-df-container {\n",
              "      display:flex;\n",
              "      flex-wrap:wrap;\n",
              "      gap: 12px;\n",
              "    }\n",
              "\n",
              "    .colab-df-convert {\n",
              "      background-color: #E8F0FE;\n",
              "      border: none;\n",
              "      border-radius: 50%;\n",
              "      cursor: pointer;\n",
              "      display: none;\n",
              "      fill: #1967D2;\n",
              "      height: 32px;\n",
              "      padding: 0 0 0 0;\n",
              "      width: 32px;\n",
              "    }\n",
              "\n",
              "    .colab-df-convert:hover {\n",
              "      background-color: #E2EBFA;\n",
              "      box-shadow: 0px 1px 2px rgba(60, 64, 67, 0.3), 0px 1px 3px 1px rgba(60, 64, 67, 0.15);\n",
              "      fill: #174EA6;\n",
              "    }\n",
              "\n",
              "    [theme=dark] .colab-df-convert {\n",
              "      background-color: #3B4455;\n",
              "      fill: #D2E3FC;\n",
              "    }\n",
              "\n",
              "    [theme=dark] .colab-df-convert:hover {\n",
              "      background-color: #434B5C;\n",
              "      box-shadow: 0px 1px 3px 1px rgba(0, 0, 0, 0.15);\n",
              "      filter: drop-shadow(0px 1px 2px rgba(0, 0, 0, 0.3));\n",
              "      fill: #FFFFFF;\n",
              "    }\n",
              "  </style>\n",
              "\n",
              "      <script>\n",
              "        const buttonEl =\n",
              "          document.querySelector('#df-7347bade-5cb1-4793-8f3e-1c06cd9933ba button.colab-df-convert');\n",
              "        buttonEl.style.display =\n",
              "          google.colab.kernel.accessAllowed ? 'block' : 'none';\n",
              "\n",
              "        async function convertToInteractive(key) {\n",
              "          const element = document.querySelector('#df-7347bade-5cb1-4793-8f3e-1c06cd9933ba');\n",
              "          const dataTable =\n",
              "            await google.colab.kernel.invokeFunction('convertToInteractive',\n",
              "                                                     [key], {});\n",
              "          if (!dataTable) return;\n",
              "\n",
              "          const docLinkHtml = 'Like what you see? Visit the ' +\n",
              "            '<a target=\"_blank\" href=https://colab.research.google.com/notebooks/data_table.ipynb>data table notebook</a>'\n",
              "            + ' to learn more about interactive tables.';\n",
              "          element.innerHTML = '';\n",
              "          dataTable['output_type'] = 'display_data';\n",
              "          await google.colab.output.renderOutput(dataTable, element);\n",
              "          const docLink = document.createElement('div');\n",
              "          docLink.innerHTML = docLinkHtml;\n",
              "          element.appendChild(docLink);\n",
              "        }\n",
              "      </script>\n",
              "    </div>\n",
              "  </div>\n",
              "  "
            ]
          },
          "metadata": {},
          "execution_count": 2
        }
      ]
    },
    {
      "cell_type": "code",
      "source": [
        "freight_df = pd.DataFrame({'Ocean Freight rate':hapag[\"Ocean Freight Rate\"]})\n",
        "freight_df['Seconds'] = freight_df.index.map(pd.Timestamp.timestamp)\n",
        "freight_df"
      ],
      "metadata": {
        "colab": {
          "base_uri": "https://localhost:8080/",
          "height": 455
        },
        "id": "qqTMfz-tHDqh",
        "outputId": "16f33a9a-b926-4cf5-d564-c630a7119676"
      },
      "execution_count": null,
      "outputs": [
        {
          "output_type": "execute_result",
          "data": {
            "text/plain": [
              "               Ocean Freight rate       Seconds\n",
              "Validity From                                  \n",
              "2021-12-01                   7696  1.638317e+09\n",
              "2022-01-01                   7448  1.640995e+09\n",
              "2022-01-21                   6448  1.642723e+09\n",
              "2022-02-15                   6448  1.644883e+09\n",
              "2022-02-21                   6448  1.645402e+09\n",
              "...                           ...           ...\n",
              "2023-01-13                     52  1.673568e+09\n",
              "2023-02-01                    302  1.675210e+09\n",
              "2023-02-07                    302  1.675728e+09\n",
              "2023-02-15                    502  1.676419e+09\n",
              "2023-02-17                    502  1.676592e+09\n",
              "\n",
              "[68 rows x 2 columns]"
            ],
            "text/html": [
              "\n",
              "  <div id=\"df-6a671ba4-3c26-4bec-aec3-5f2cd1e290a7\">\n",
              "    <div class=\"colab-df-container\">\n",
              "      <div>\n",
              "<style scoped>\n",
              "    .dataframe tbody tr th:only-of-type {\n",
              "        vertical-align: middle;\n",
              "    }\n",
              "\n",
              "    .dataframe tbody tr th {\n",
              "        vertical-align: top;\n",
              "    }\n",
              "\n",
              "    .dataframe thead th {\n",
              "        text-align: right;\n",
              "    }\n",
              "</style>\n",
              "<table border=\"1\" class=\"dataframe\">\n",
              "  <thead>\n",
              "    <tr style=\"text-align: right;\">\n",
              "      <th></th>\n",
              "      <th>Ocean Freight rate</th>\n",
              "      <th>Seconds</th>\n",
              "    </tr>\n",
              "    <tr>\n",
              "      <th>Validity From</th>\n",
              "      <th></th>\n",
              "      <th></th>\n",
              "    </tr>\n",
              "  </thead>\n",
              "  <tbody>\n",
              "    <tr>\n",
              "      <th>2021-12-01</th>\n",
              "      <td>7696</td>\n",
              "      <td>1.638317e+09</td>\n",
              "    </tr>\n",
              "    <tr>\n",
              "      <th>2022-01-01</th>\n",
              "      <td>7448</td>\n",
              "      <td>1.640995e+09</td>\n",
              "    </tr>\n",
              "    <tr>\n",
              "      <th>2022-01-21</th>\n",
              "      <td>6448</td>\n",
              "      <td>1.642723e+09</td>\n",
              "    </tr>\n",
              "    <tr>\n",
              "      <th>2022-02-15</th>\n",
              "      <td>6448</td>\n",
              "      <td>1.644883e+09</td>\n",
              "    </tr>\n",
              "    <tr>\n",
              "      <th>2022-02-21</th>\n",
              "      <td>6448</td>\n",
              "      <td>1.645402e+09</td>\n",
              "    </tr>\n",
              "    <tr>\n",
              "      <th>...</th>\n",
              "      <td>...</td>\n",
              "      <td>...</td>\n",
              "    </tr>\n",
              "    <tr>\n",
              "      <th>2023-01-13</th>\n",
              "      <td>52</td>\n",
              "      <td>1.673568e+09</td>\n",
              "    </tr>\n",
              "    <tr>\n",
              "      <th>2023-02-01</th>\n",
              "      <td>302</td>\n",
              "      <td>1.675210e+09</td>\n",
              "    </tr>\n",
              "    <tr>\n",
              "      <th>2023-02-07</th>\n",
              "      <td>302</td>\n",
              "      <td>1.675728e+09</td>\n",
              "    </tr>\n",
              "    <tr>\n",
              "      <th>2023-02-15</th>\n",
              "      <td>502</td>\n",
              "      <td>1.676419e+09</td>\n",
              "    </tr>\n",
              "    <tr>\n",
              "      <th>2023-02-17</th>\n",
              "      <td>502</td>\n",
              "      <td>1.676592e+09</td>\n",
              "    </tr>\n",
              "  </tbody>\n",
              "</table>\n",
              "<p>68 rows × 2 columns</p>\n",
              "</div>\n",
              "      <button class=\"colab-df-convert\" onclick=\"convertToInteractive('df-6a671ba4-3c26-4bec-aec3-5f2cd1e290a7')\"\n",
              "              title=\"Convert this dataframe to an interactive table.\"\n",
              "              style=\"display:none;\">\n",
              "        \n",
              "  <svg xmlns=\"http://www.w3.org/2000/svg\" height=\"24px\"viewBox=\"0 0 24 24\"\n",
              "       width=\"24px\">\n",
              "    <path d=\"M0 0h24v24H0V0z\" fill=\"none\"/>\n",
              "    <path d=\"M18.56 5.44l.94 2.06.94-2.06 2.06-.94-2.06-.94-.94-2.06-.94 2.06-2.06.94zm-11 1L8.5 8.5l.94-2.06 2.06-.94-2.06-.94L8.5 2.5l-.94 2.06-2.06.94zm10 10l.94 2.06.94-2.06 2.06-.94-2.06-.94-.94-2.06-.94 2.06-2.06.94z\"/><path d=\"M17.41 7.96l-1.37-1.37c-.4-.4-.92-.59-1.43-.59-.52 0-1.04.2-1.43.59L10.3 9.45l-7.72 7.72c-.78.78-.78 2.05 0 2.83L4 21.41c.39.39.9.59 1.41.59.51 0 1.02-.2 1.41-.59l7.78-7.78 2.81-2.81c.8-.78.8-2.07 0-2.86zM5.41 20L4 18.59l7.72-7.72 1.47 1.35L5.41 20z\"/>\n",
              "  </svg>\n",
              "      </button>\n",
              "      \n",
              "  <style>\n",
              "    .colab-df-container {\n",
              "      display:flex;\n",
              "      flex-wrap:wrap;\n",
              "      gap: 12px;\n",
              "    }\n",
              "\n",
              "    .colab-df-convert {\n",
              "      background-color: #E8F0FE;\n",
              "      border: none;\n",
              "      border-radius: 50%;\n",
              "      cursor: pointer;\n",
              "      display: none;\n",
              "      fill: #1967D2;\n",
              "      height: 32px;\n",
              "      padding: 0 0 0 0;\n",
              "      width: 32px;\n",
              "    }\n",
              "\n",
              "    .colab-df-convert:hover {\n",
              "      background-color: #E2EBFA;\n",
              "      box-shadow: 0px 1px 2px rgba(60, 64, 67, 0.3), 0px 1px 3px 1px rgba(60, 64, 67, 0.15);\n",
              "      fill: #174EA6;\n",
              "    }\n",
              "\n",
              "    [theme=dark] .colab-df-convert {\n",
              "      background-color: #3B4455;\n",
              "      fill: #D2E3FC;\n",
              "    }\n",
              "\n",
              "    [theme=dark] .colab-df-convert:hover {\n",
              "      background-color: #434B5C;\n",
              "      box-shadow: 0px 1px 3px 1px rgba(0, 0, 0, 0.15);\n",
              "      filter: drop-shadow(0px 1px 2px rgba(0, 0, 0, 0.3));\n",
              "      fill: #FFFFFF;\n",
              "    }\n",
              "  </style>\n",
              "\n",
              "      <script>\n",
              "        const buttonEl =\n",
              "          document.querySelector('#df-6a671ba4-3c26-4bec-aec3-5f2cd1e290a7 button.colab-df-convert');\n",
              "        buttonEl.style.display =\n",
              "          google.colab.kernel.accessAllowed ? 'block' : 'none';\n",
              "\n",
              "        async function convertToInteractive(key) {\n",
              "          const element = document.querySelector('#df-6a671ba4-3c26-4bec-aec3-5f2cd1e290a7');\n",
              "          const dataTable =\n",
              "            await google.colab.kernel.invokeFunction('convertToInteractive',\n",
              "                                                     [key], {});\n",
              "          if (!dataTable) return;\n",
              "\n",
              "          const docLinkHtml = 'Like what you see? Visit the ' +\n",
              "            '<a target=\"_blank\" href=https://colab.research.google.com/notebooks/data_table.ipynb>data table notebook</a>'\n",
              "            + ' to learn more about interactive tables.';\n",
              "          element.innerHTML = '';\n",
              "          dataTable['output_type'] = 'display_data';\n",
              "          await google.colab.output.renderOutput(dataTable, element);\n",
              "          const docLink = document.createElement('div');\n",
              "          docLink.innerHTML = docLinkHtml;\n",
              "          element.appendChild(docLink);\n",
              "        }\n",
              "      </script>\n",
              "    </div>\n",
              "  </div>\n",
              "  "
            ]
          },
          "metadata": {},
          "execution_count": 3
        }
      ]
    },
    {
      "cell_type": "code",
      "source": [
        "day = 60*60*24 #segundos por día\n",
        "year = 365.2425*day #segundos por año\n",
        "\n",
        "freight_df['Day sin'] = np.sin(freight_df['Seconds'] * (2* np.pi / day))\n",
        "freight_df['Day cos'] = np.cos(freight_df['Seconds'] * (2 * np.pi / day))\n",
        "freight_df['Year sin'] = np.sin(freight_df['Seconds'] * (2 * np.pi / year))\n",
        "freight_df['Year cos'] = np.cos(freight_df['Seconds'] * (2 * np.pi / year))\n",
        "freight_df.head()"
      ],
      "metadata": {
        "colab": {
          "base_uri": "https://localhost:8080/",
          "height": 237
        },
        "id": "yy4BJN-XHd5s",
        "outputId": "8d067b7c-0365-42cf-a45f-122c049d8f43"
      },
      "execution_count": null,
      "outputs": [
        {
          "output_type": "execute_result",
          "data": {
            "text/plain": [
              "               Ocean Freight rate       Seconds       Day sin  Day cos  \\\n",
              "Validity From                                                            \n",
              "2021-12-01                   7696  1.638317e+09 -1.093976e-11      1.0   \n",
              "2022-01-01                   7448  1.640995e+09 -8.652299e-12      1.0   \n",
              "2022-01-21                   6448  1.642723e+09 -9.993018e-12      1.0   \n",
              "2022-02-15                   6448  1.644883e+09 -4.392959e-12      1.0   \n",
              "2022-02-21                   6448  1.645402e+09 -7.705558e-12      1.0   \n",
              "\n",
              "               Year sin  Year cos  \n",
              "Validity From                      \n",
              "2021-12-01    -0.502577  0.864532  \n",
              "2022-01-01     0.006709  0.999977  \n",
              "2022-01-21     0.343616  0.939110  \n",
              "2022-02-15     0.703872  0.710327  \n",
              "2022-02-21     0.773313  0.634024  "
            ],
            "text/html": [
              "\n",
              "  <div id=\"df-9a60cad4-8d0f-4967-8fb4-4766fee52d7a\">\n",
              "    <div class=\"colab-df-container\">\n",
              "      <div>\n",
              "<style scoped>\n",
              "    .dataframe tbody tr th:only-of-type {\n",
              "        vertical-align: middle;\n",
              "    }\n",
              "\n",
              "    .dataframe tbody tr th {\n",
              "        vertical-align: top;\n",
              "    }\n",
              "\n",
              "    .dataframe thead th {\n",
              "        text-align: right;\n",
              "    }\n",
              "</style>\n",
              "<table border=\"1\" class=\"dataframe\">\n",
              "  <thead>\n",
              "    <tr style=\"text-align: right;\">\n",
              "      <th></th>\n",
              "      <th>Ocean Freight rate</th>\n",
              "      <th>Seconds</th>\n",
              "      <th>Day sin</th>\n",
              "      <th>Day cos</th>\n",
              "      <th>Year sin</th>\n",
              "      <th>Year cos</th>\n",
              "    </tr>\n",
              "    <tr>\n",
              "      <th>Validity From</th>\n",
              "      <th></th>\n",
              "      <th></th>\n",
              "      <th></th>\n",
              "      <th></th>\n",
              "      <th></th>\n",
              "      <th></th>\n",
              "    </tr>\n",
              "  </thead>\n",
              "  <tbody>\n",
              "    <tr>\n",
              "      <th>2021-12-01</th>\n",
              "      <td>7696</td>\n",
              "      <td>1.638317e+09</td>\n",
              "      <td>-1.093976e-11</td>\n",
              "      <td>1.0</td>\n",
              "      <td>-0.502577</td>\n",
              "      <td>0.864532</td>\n",
              "    </tr>\n",
              "    <tr>\n",
              "      <th>2022-01-01</th>\n",
              "      <td>7448</td>\n",
              "      <td>1.640995e+09</td>\n",
              "      <td>-8.652299e-12</td>\n",
              "      <td>1.0</td>\n",
              "      <td>0.006709</td>\n",
              "      <td>0.999977</td>\n",
              "    </tr>\n",
              "    <tr>\n",
              "      <th>2022-01-21</th>\n",
              "      <td>6448</td>\n",
              "      <td>1.642723e+09</td>\n",
              "      <td>-9.993018e-12</td>\n",
              "      <td>1.0</td>\n",
              "      <td>0.343616</td>\n",
              "      <td>0.939110</td>\n",
              "    </tr>\n",
              "    <tr>\n",
              "      <th>2022-02-15</th>\n",
              "      <td>6448</td>\n",
              "      <td>1.644883e+09</td>\n",
              "      <td>-4.392959e-12</td>\n",
              "      <td>1.0</td>\n",
              "      <td>0.703872</td>\n",
              "      <td>0.710327</td>\n",
              "    </tr>\n",
              "    <tr>\n",
              "      <th>2022-02-21</th>\n",
              "      <td>6448</td>\n",
              "      <td>1.645402e+09</td>\n",
              "      <td>-7.705558e-12</td>\n",
              "      <td>1.0</td>\n",
              "      <td>0.773313</td>\n",
              "      <td>0.634024</td>\n",
              "    </tr>\n",
              "  </tbody>\n",
              "</table>\n",
              "</div>\n",
              "      <button class=\"colab-df-convert\" onclick=\"convertToInteractive('df-9a60cad4-8d0f-4967-8fb4-4766fee52d7a')\"\n",
              "              title=\"Convert this dataframe to an interactive table.\"\n",
              "              style=\"display:none;\">\n",
              "        \n",
              "  <svg xmlns=\"http://www.w3.org/2000/svg\" height=\"24px\"viewBox=\"0 0 24 24\"\n",
              "       width=\"24px\">\n",
              "    <path d=\"M0 0h24v24H0V0z\" fill=\"none\"/>\n",
              "    <path d=\"M18.56 5.44l.94 2.06.94-2.06 2.06-.94-2.06-.94-.94-2.06-.94 2.06-2.06.94zm-11 1L8.5 8.5l.94-2.06 2.06-.94-2.06-.94L8.5 2.5l-.94 2.06-2.06.94zm10 10l.94 2.06.94-2.06 2.06-.94-2.06-.94-.94-2.06-.94 2.06-2.06.94z\"/><path d=\"M17.41 7.96l-1.37-1.37c-.4-.4-.92-.59-1.43-.59-.52 0-1.04.2-1.43.59L10.3 9.45l-7.72 7.72c-.78.78-.78 2.05 0 2.83L4 21.41c.39.39.9.59 1.41.59.51 0 1.02-.2 1.41-.59l7.78-7.78 2.81-2.81c.8-.78.8-2.07 0-2.86zM5.41 20L4 18.59l7.72-7.72 1.47 1.35L5.41 20z\"/>\n",
              "  </svg>\n",
              "      </button>\n",
              "      \n",
              "  <style>\n",
              "    .colab-df-container {\n",
              "      display:flex;\n",
              "      flex-wrap:wrap;\n",
              "      gap: 12px;\n",
              "    }\n",
              "\n",
              "    .colab-df-convert {\n",
              "      background-color: #E8F0FE;\n",
              "      border: none;\n",
              "      border-radius: 50%;\n",
              "      cursor: pointer;\n",
              "      display: none;\n",
              "      fill: #1967D2;\n",
              "      height: 32px;\n",
              "      padding: 0 0 0 0;\n",
              "      width: 32px;\n",
              "    }\n",
              "\n",
              "    .colab-df-convert:hover {\n",
              "      background-color: #E2EBFA;\n",
              "      box-shadow: 0px 1px 2px rgba(60, 64, 67, 0.3), 0px 1px 3px 1px rgba(60, 64, 67, 0.15);\n",
              "      fill: #174EA6;\n",
              "    }\n",
              "\n",
              "    [theme=dark] .colab-df-convert {\n",
              "      background-color: #3B4455;\n",
              "      fill: #D2E3FC;\n",
              "    }\n",
              "\n",
              "    [theme=dark] .colab-df-convert:hover {\n",
              "      background-color: #434B5C;\n",
              "      box-shadow: 0px 1px 3px 1px rgba(0, 0, 0, 0.15);\n",
              "      filter: drop-shadow(0px 1px 2px rgba(0, 0, 0, 0.3));\n",
              "      fill: #FFFFFF;\n",
              "    }\n",
              "  </style>\n",
              "\n",
              "      <script>\n",
              "        const buttonEl =\n",
              "          document.querySelector('#df-9a60cad4-8d0f-4967-8fb4-4766fee52d7a button.colab-df-convert');\n",
              "        buttonEl.style.display =\n",
              "          google.colab.kernel.accessAllowed ? 'block' : 'none';\n",
              "\n",
              "        async function convertToInteractive(key) {\n",
              "          const element = document.querySelector('#df-9a60cad4-8d0f-4967-8fb4-4766fee52d7a');\n",
              "          const dataTable =\n",
              "            await google.colab.kernel.invokeFunction('convertToInteractive',\n",
              "                                                     [key], {});\n",
              "          if (!dataTable) return;\n",
              "\n",
              "          const docLinkHtml = 'Like what you see? Visit the ' +\n",
              "            '<a target=\"_blank\" href=https://colab.research.google.com/notebooks/data_table.ipynb>data table notebook</a>'\n",
              "            + ' to learn more about interactive tables.';\n",
              "          element.innerHTML = '';\n",
              "          dataTable['output_type'] = 'display_data';\n",
              "          await google.colab.output.renderOutput(dataTable, element);\n",
              "          const docLink = document.createElement('div');\n",
              "          docLink.innerHTML = docLinkHtml;\n",
              "          element.appendChild(docLink);\n",
              "        }\n",
              "      </script>\n",
              "    </div>\n",
              "  </div>\n",
              "  "
            ]
          },
          "metadata": {},
          "execution_count": 4
        }
      ]
    },
    {
      "cell_type": "code",
      "source": [
        "def df_to_X_y2(df, window_size):\n",
        "  df_as_np = df.to_numpy()\n",
        "  X = []\n",
        "  y = []\n",
        "  for i in range(len(df_as_np)-window_size):\n",
        "    row = [r for r in df_as_np[i:i+window_size]]\n",
        "    X.append(row)\n",
        "    label = df_as_np[i+window_size][0]\n",
        "    y.append(label)\n",
        "  return np.array(X), np.array(y)"
      ],
      "metadata": {
        "id": "5JGyRLluH-HI"
      },
      "execution_count": null,
      "outputs": []
    },
    {
      "cell_type": "code",
      "source": [
        "#freight_df=freight_df.drop(\"Seconds\",axis=1)\n",
        "#from sklearn.preprocessing import StandardScaler\n",
        "#sc=StandardScaler()\n",
        "#freight_sc=sc.fit_transform(freight_df[\"Ocean Freight rate\"])\n",
        "#freight_sc=pd.DataFrame(freight_sc)\n",
        "freight_df.head()"
      ],
      "metadata": {
        "colab": {
          "base_uri": "https://localhost:8080/",
          "height": 237
        },
        "id": "WpV1Aklvs_nZ",
        "outputId": "6cead537-61f7-4746-8cb5-e9c747c98549"
      },
      "execution_count": null,
      "outputs": [
        {
          "output_type": "execute_result",
          "data": {
            "text/plain": [
              "               Ocean Freight rate       Day sin  Day cos  Year sin  Year cos\n",
              "Validity From                                                               \n",
              "2021-12-01                   7696 -1.093976e-11      1.0 -0.502577  0.864532\n",
              "2022-01-01                   7448 -8.652299e-12      1.0  0.006709  0.999977\n",
              "2022-01-21                   6448 -9.993018e-12      1.0  0.343616  0.939110\n",
              "2022-02-15                   6448 -4.392959e-12      1.0  0.703872  0.710327\n",
              "2022-02-21                   6448 -7.705558e-12      1.0  0.773313  0.634024"
            ],
            "text/html": [
              "\n",
              "  <div id=\"df-d68db11a-2ff1-4caa-9730-887bb7ce977d\">\n",
              "    <div class=\"colab-df-container\">\n",
              "      <div>\n",
              "<style scoped>\n",
              "    .dataframe tbody tr th:only-of-type {\n",
              "        vertical-align: middle;\n",
              "    }\n",
              "\n",
              "    .dataframe tbody tr th {\n",
              "        vertical-align: top;\n",
              "    }\n",
              "\n",
              "    .dataframe thead th {\n",
              "        text-align: right;\n",
              "    }\n",
              "</style>\n",
              "<table border=\"1\" class=\"dataframe\">\n",
              "  <thead>\n",
              "    <tr style=\"text-align: right;\">\n",
              "      <th></th>\n",
              "      <th>Ocean Freight rate</th>\n",
              "      <th>Day sin</th>\n",
              "      <th>Day cos</th>\n",
              "      <th>Year sin</th>\n",
              "      <th>Year cos</th>\n",
              "    </tr>\n",
              "    <tr>\n",
              "      <th>Validity From</th>\n",
              "      <th></th>\n",
              "      <th></th>\n",
              "      <th></th>\n",
              "      <th></th>\n",
              "      <th></th>\n",
              "    </tr>\n",
              "  </thead>\n",
              "  <tbody>\n",
              "    <tr>\n",
              "      <th>2021-12-01</th>\n",
              "      <td>7696</td>\n",
              "      <td>-1.093976e-11</td>\n",
              "      <td>1.0</td>\n",
              "      <td>-0.502577</td>\n",
              "      <td>0.864532</td>\n",
              "    </tr>\n",
              "    <tr>\n",
              "      <th>2022-01-01</th>\n",
              "      <td>7448</td>\n",
              "      <td>-8.652299e-12</td>\n",
              "      <td>1.0</td>\n",
              "      <td>0.006709</td>\n",
              "      <td>0.999977</td>\n",
              "    </tr>\n",
              "    <tr>\n",
              "      <th>2022-01-21</th>\n",
              "      <td>6448</td>\n",
              "      <td>-9.993018e-12</td>\n",
              "      <td>1.0</td>\n",
              "      <td>0.343616</td>\n",
              "      <td>0.939110</td>\n",
              "    </tr>\n",
              "    <tr>\n",
              "      <th>2022-02-15</th>\n",
              "      <td>6448</td>\n",
              "      <td>-4.392959e-12</td>\n",
              "      <td>1.0</td>\n",
              "      <td>0.703872</td>\n",
              "      <td>0.710327</td>\n",
              "    </tr>\n",
              "    <tr>\n",
              "      <th>2022-02-21</th>\n",
              "      <td>6448</td>\n",
              "      <td>-7.705558e-12</td>\n",
              "      <td>1.0</td>\n",
              "      <td>0.773313</td>\n",
              "      <td>0.634024</td>\n",
              "    </tr>\n",
              "  </tbody>\n",
              "</table>\n",
              "</div>\n",
              "      <button class=\"colab-df-convert\" onclick=\"convertToInteractive('df-d68db11a-2ff1-4caa-9730-887bb7ce977d')\"\n",
              "              title=\"Convert this dataframe to an interactive table.\"\n",
              "              style=\"display:none;\">\n",
              "        \n",
              "  <svg xmlns=\"http://www.w3.org/2000/svg\" height=\"24px\"viewBox=\"0 0 24 24\"\n",
              "       width=\"24px\">\n",
              "    <path d=\"M0 0h24v24H0V0z\" fill=\"none\"/>\n",
              "    <path d=\"M18.56 5.44l.94 2.06.94-2.06 2.06-.94-2.06-.94-.94-2.06-.94 2.06-2.06.94zm-11 1L8.5 8.5l.94-2.06 2.06-.94-2.06-.94L8.5 2.5l-.94 2.06-2.06.94zm10 10l.94 2.06.94-2.06 2.06-.94-2.06-.94-.94-2.06-.94 2.06-2.06.94z\"/><path d=\"M17.41 7.96l-1.37-1.37c-.4-.4-.92-.59-1.43-.59-.52 0-1.04.2-1.43.59L10.3 9.45l-7.72 7.72c-.78.78-.78 2.05 0 2.83L4 21.41c.39.39.9.59 1.41.59.51 0 1.02-.2 1.41-.59l7.78-7.78 2.81-2.81c.8-.78.8-2.07 0-2.86zM5.41 20L4 18.59l7.72-7.72 1.47 1.35L5.41 20z\"/>\n",
              "  </svg>\n",
              "      </button>\n",
              "      \n",
              "  <style>\n",
              "    .colab-df-container {\n",
              "      display:flex;\n",
              "      flex-wrap:wrap;\n",
              "      gap: 12px;\n",
              "    }\n",
              "\n",
              "    .colab-df-convert {\n",
              "      background-color: #E8F0FE;\n",
              "      border: none;\n",
              "      border-radius: 50%;\n",
              "      cursor: pointer;\n",
              "      display: none;\n",
              "      fill: #1967D2;\n",
              "      height: 32px;\n",
              "      padding: 0 0 0 0;\n",
              "      width: 32px;\n",
              "    }\n",
              "\n",
              "    .colab-df-convert:hover {\n",
              "      background-color: #E2EBFA;\n",
              "      box-shadow: 0px 1px 2px rgba(60, 64, 67, 0.3), 0px 1px 3px 1px rgba(60, 64, 67, 0.15);\n",
              "      fill: #174EA6;\n",
              "    }\n",
              "\n",
              "    [theme=dark] .colab-df-convert {\n",
              "      background-color: #3B4455;\n",
              "      fill: #D2E3FC;\n",
              "    }\n",
              "\n",
              "    [theme=dark] .colab-df-convert:hover {\n",
              "      background-color: #434B5C;\n",
              "      box-shadow: 0px 1px 3px 1px rgba(0, 0, 0, 0.15);\n",
              "      filter: drop-shadow(0px 1px 2px rgba(0, 0, 0, 0.3));\n",
              "      fill: #FFFFFF;\n",
              "    }\n",
              "  </style>\n",
              "\n",
              "      <script>\n",
              "        const buttonEl =\n",
              "          document.querySelector('#df-d68db11a-2ff1-4caa-9730-887bb7ce977d button.colab-df-convert');\n",
              "        buttonEl.style.display =\n",
              "          google.colab.kernel.accessAllowed ? 'block' : 'none';\n",
              "\n",
              "        async function convertToInteractive(key) {\n",
              "          const element = document.querySelector('#df-d68db11a-2ff1-4caa-9730-887bb7ce977d');\n",
              "          const dataTable =\n",
              "            await google.colab.kernel.invokeFunction('convertToInteractive',\n",
              "                                                     [key], {});\n",
              "          if (!dataTable) return;\n",
              "\n",
              "          const docLinkHtml = 'Like what you see? Visit the ' +\n",
              "            '<a target=\"_blank\" href=https://colab.research.google.com/notebooks/data_table.ipynb>data table notebook</a>'\n",
              "            + ' to learn more about interactive tables.';\n",
              "          element.innerHTML = '';\n",
              "          dataTable['output_type'] = 'display_data';\n",
              "          await google.colab.output.renderOutput(dataTable, element);\n",
              "          const docLink = document.createElement('div');\n",
              "          docLink.innerHTML = docLinkHtml;\n",
              "          element.appendChild(docLink);\n",
              "        }\n",
              "      </script>\n",
              "    </div>\n",
              "  </div>\n",
              "  "
            ]
          },
          "metadata": {},
          "execution_count": 7
        }
      ]
    },
    {
      "cell_type": "code",
      "source": [
        "freight_sc=(freight_df[\"Ocean Freight rate\"]-np.mean(freight_df[\"Ocean Freight rate\"]))/np.std(freight_df[\"Ocean Freight rate\"])\n",
        "freight_sc"
      ],
      "metadata": {
        "colab": {
          "base_uri": "https://localhost:8080/"
        },
        "id": "MfmwGtI1uivP",
        "outputId": "d523814e-e102-44db-c994-454de35b8b93"
      },
      "execution_count": null,
      "outputs": [
        {
          "output_type": "execute_result",
          "data": {
            "text/plain": [
              "Validity From\n",
              "2021-12-01    1.759329\n",
              "2022-01-01    1.660384\n",
              "2022-01-21    1.261411\n",
              "2022-02-15    1.261411\n",
              "2022-02-21    1.261411\n",
              "                ...   \n",
              "2023-01-13   -1.290419\n",
              "2023-02-01   -1.190676\n",
              "2023-02-07   -1.190676\n",
              "2023-02-15   -1.110881\n",
              "2023-02-17   -1.110881\n",
              "Name: Ocean Freight rate, Length: 68, dtype: float64"
            ]
          },
          "metadata": {},
          "execution_count": 8
        }
      ]
    },
    {
      "cell_type": "code",
      "source": [
        "standard_freight=pd.DataFrame({\"Ocean Freight\":freight_sc})\n",
        "new=freight_df.iloc[:,[1,2,3,4]]\n",
        "data_final=pd.concat([standard_freight,new],axis=1)\n",
        "data_final.head()"
      ],
      "metadata": {
        "colab": {
          "base_uri": "https://localhost:8080/",
          "height": 237
        },
        "id": "r_FfPIo2vCxh",
        "outputId": "ae427748-ed39-4218-a543-69bb71c9fb1e"
      },
      "execution_count": null,
      "outputs": [
        {
          "output_type": "execute_result",
          "data": {
            "text/plain": [
              "               Ocean Freight       Day sin  Day cos  Year sin  Year cos\n",
              "Validity From                                                          \n",
              "2021-12-01          1.759329 -1.093976e-11      1.0 -0.502577  0.864532\n",
              "2022-01-01          1.660384 -8.652299e-12      1.0  0.006709  0.999977\n",
              "2022-01-21          1.261411 -9.993018e-12      1.0  0.343616  0.939110\n",
              "2022-02-15          1.261411 -4.392959e-12      1.0  0.703872  0.710327\n",
              "2022-02-21          1.261411 -7.705558e-12      1.0  0.773313  0.634024"
            ],
            "text/html": [
              "\n",
              "  <div id=\"df-57f6f2b7-a84f-4706-a1ea-201d3374d1a2\">\n",
              "    <div class=\"colab-df-container\">\n",
              "      <div>\n",
              "<style scoped>\n",
              "    .dataframe tbody tr th:only-of-type {\n",
              "        vertical-align: middle;\n",
              "    }\n",
              "\n",
              "    .dataframe tbody tr th {\n",
              "        vertical-align: top;\n",
              "    }\n",
              "\n",
              "    .dataframe thead th {\n",
              "        text-align: right;\n",
              "    }\n",
              "</style>\n",
              "<table border=\"1\" class=\"dataframe\">\n",
              "  <thead>\n",
              "    <tr style=\"text-align: right;\">\n",
              "      <th></th>\n",
              "      <th>Ocean Freight</th>\n",
              "      <th>Day sin</th>\n",
              "      <th>Day cos</th>\n",
              "      <th>Year sin</th>\n",
              "      <th>Year cos</th>\n",
              "    </tr>\n",
              "    <tr>\n",
              "      <th>Validity From</th>\n",
              "      <th></th>\n",
              "      <th></th>\n",
              "      <th></th>\n",
              "      <th></th>\n",
              "      <th></th>\n",
              "    </tr>\n",
              "  </thead>\n",
              "  <tbody>\n",
              "    <tr>\n",
              "      <th>2021-12-01</th>\n",
              "      <td>1.759329</td>\n",
              "      <td>-1.093976e-11</td>\n",
              "      <td>1.0</td>\n",
              "      <td>-0.502577</td>\n",
              "      <td>0.864532</td>\n",
              "    </tr>\n",
              "    <tr>\n",
              "      <th>2022-01-01</th>\n",
              "      <td>1.660384</td>\n",
              "      <td>-8.652299e-12</td>\n",
              "      <td>1.0</td>\n",
              "      <td>0.006709</td>\n",
              "      <td>0.999977</td>\n",
              "    </tr>\n",
              "    <tr>\n",
              "      <th>2022-01-21</th>\n",
              "      <td>1.261411</td>\n",
              "      <td>-9.993018e-12</td>\n",
              "      <td>1.0</td>\n",
              "      <td>0.343616</td>\n",
              "      <td>0.939110</td>\n",
              "    </tr>\n",
              "    <tr>\n",
              "      <th>2022-02-15</th>\n",
              "      <td>1.261411</td>\n",
              "      <td>-4.392959e-12</td>\n",
              "      <td>1.0</td>\n",
              "      <td>0.703872</td>\n",
              "      <td>0.710327</td>\n",
              "    </tr>\n",
              "    <tr>\n",
              "      <th>2022-02-21</th>\n",
              "      <td>1.261411</td>\n",
              "      <td>-7.705558e-12</td>\n",
              "      <td>1.0</td>\n",
              "      <td>0.773313</td>\n",
              "      <td>0.634024</td>\n",
              "    </tr>\n",
              "  </tbody>\n",
              "</table>\n",
              "</div>\n",
              "      <button class=\"colab-df-convert\" onclick=\"convertToInteractive('df-57f6f2b7-a84f-4706-a1ea-201d3374d1a2')\"\n",
              "              title=\"Convert this dataframe to an interactive table.\"\n",
              "              style=\"display:none;\">\n",
              "        \n",
              "  <svg xmlns=\"http://www.w3.org/2000/svg\" height=\"24px\"viewBox=\"0 0 24 24\"\n",
              "       width=\"24px\">\n",
              "    <path d=\"M0 0h24v24H0V0z\" fill=\"none\"/>\n",
              "    <path d=\"M18.56 5.44l.94 2.06.94-2.06 2.06-.94-2.06-.94-.94-2.06-.94 2.06-2.06.94zm-11 1L8.5 8.5l.94-2.06 2.06-.94-2.06-.94L8.5 2.5l-.94 2.06-2.06.94zm10 10l.94 2.06.94-2.06 2.06-.94-2.06-.94-.94-2.06-.94 2.06-2.06.94z\"/><path d=\"M17.41 7.96l-1.37-1.37c-.4-.4-.92-.59-1.43-.59-.52 0-1.04.2-1.43.59L10.3 9.45l-7.72 7.72c-.78.78-.78 2.05 0 2.83L4 21.41c.39.39.9.59 1.41.59.51 0 1.02-.2 1.41-.59l7.78-7.78 2.81-2.81c.8-.78.8-2.07 0-2.86zM5.41 20L4 18.59l7.72-7.72 1.47 1.35L5.41 20z\"/>\n",
              "  </svg>\n",
              "      </button>\n",
              "      \n",
              "  <style>\n",
              "    .colab-df-container {\n",
              "      display:flex;\n",
              "      flex-wrap:wrap;\n",
              "      gap: 12px;\n",
              "    }\n",
              "\n",
              "    .colab-df-convert {\n",
              "      background-color: #E8F0FE;\n",
              "      border: none;\n",
              "      border-radius: 50%;\n",
              "      cursor: pointer;\n",
              "      display: none;\n",
              "      fill: #1967D2;\n",
              "      height: 32px;\n",
              "      padding: 0 0 0 0;\n",
              "      width: 32px;\n",
              "    }\n",
              "\n",
              "    .colab-df-convert:hover {\n",
              "      background-color: #E2EBFA;\n",
              "      box-shadow: 0px 1px 2px rgba(60, 64, 67, 0.3), 0px 1px 3px 1px rgba(60, 64, 67, 0.15);\n",
              "      fill: #174EA6;\n",
              "    }\n",
              "\n",
              "    [theme=dark] .colab-df-convert {\n",
              "      background-color: #3B4455;\n",
              "      fill: #D2E3FC;\n",
              "    }\n",
              "\n",
              "    [theme=dark] .colab-df-convert:hover {\n",
              "      background-color: #434B5C;\n",
              "      box-shadow: 0px 1px 3px 1px rgba(0, 0, 0, 0.15);\n",
              "      filter: drop-shadow(0px 1px 2px rgba(0, 0, 0, 0.3));\n",
              "      fill: #FFFFFF;\n",
              "    }\n",
              "  </style>\n",
              "\n",
              "      <script>\n",
              "        const buttonEl =\n",
              "          document.querySelector('#df-57f6f2b7-a84f-4706-a1ea-201d3374d1a2 button.colab-df-convert');\n",
              "        buttonEl.style.display =\n",
              "          google.colab.kernel.accessAllowed ? 'block' : 'none';\n",
              "\n",
              "        async function convertToInteractive(key) {\n",
              "          const element = document.querySelector('#df-57f6f2b7-a84f-4706-a1ea-201d3374d1a2');\n",
              "          const dataTable =\n",
              "            await google.colab.kernel.invokeFunction('convertToInteractive',\n",
              "                                                     [key], {});\n",
              "          if (!dataTable) return;\n",
              "\n",
              "          const docLinkHtml = 'Like what you see? Visit the ' +\n",
              "            '<a target=\"_blank\" href=https://colab.research.google.com/notebooks/data_table.ipynb>data table notebook</a>'\n",
              "            + ' to learn more about interactive tables.';\n",
              "          element.innerHTML = '';\n",
              "          dataTable['output_type'] = 'display_data';\n",
              "          await google.colab.output.renderOutput(dataTable, element);\n",
              "          const docLink = document.createElement('div');\n",
              "          docLink.innerHTML = docLinkHtml;\n",
              "          element.appendChild(docLink);\n",
              "        }\n",
              "      </script>\n",
              "    </div>\n",
              "  </div>\n",
              "  "
            ]
          },
          "metadata": {},
          "execution_count": 9
        }
      ]
    },
    {
      "cell_type": "code",
      "source": [
        "data_final"
      ],
      "metadata": {
        "colab": {
          "base_uri": "https://localhost:8080/",
          "height": 455
        },
        "id": "RjAl36ymv1ZG",
        "outputId": "d184787d-1348-4449-e81b-941de7b61aa4"
      },
      "execution_count": null,
      "outputs": [
        {
          "output_type": "execute_result",
          "data": {
            "text/plain": [
              "               Ocean Freight       Day sin  Day cos  Year sin  Year cos\n",
              "Validity From                                                          \n",
              "2021-12-01          1.759329 -1.093976e-11      1.0 -0.502577  0.864532\n",
              "2022-01-01          1.660384 -8.652299e-12      1.0  0.006709  0.999977\n",
              "2022-01-21          1.261411 -9.993018e-12      1.0  0.343616  0.939110\n",
              "2022-02-15          1.261411 -4.392959e-12      1.0  0.703872  0.710327\n",
              "2022-02-21          1.261411 -7.705558e-12      1.0  0.773313  0.634024\n",
              "...                      ...           ...      ...       ...       ...\n",
              "2023-01-13         -1.290419 -3.365829e-12      1.0  0.207453  0.978245\n",
              "2023-02-01         -1.190676 -9.005086e-12      1.0  0.510549  0.859848\n",
              "2023-02-07         -1.190676 -1.231769e-11      1.0  0.596425  0.802669\n",
              "2023-02-15         -1.110881 -7.033207e-12      1.0  0.700903  0.713257\n",
              "2023-02-17         -1.110881 -1.298804e-11      1.0  0.725023  0.688725\n",
              "\n",
              "[68 rows x 5 columns]"
            ],
            "text/html": [
              "\n",
              "  <div id=\"df-b5464d4b-6f76-4e02-a346-1d04628fc811\">\n",
              "    <div class=\"colab-df-container\">\n",
              "      <div>\n",
              "<style scoped>\n",
              "    .dataframe tbody tr th:only-of-type {\n",
              "        vertical-align: middle;\n",
              "    }\n",
              "\n",
              "    .dataframe tbody tr th {\n",
              "        vertical-align: top;\n",
              "    }\n",
              "\n",
              "    .dataframe thead th {\n",
              "        text-align: right;\n",
              "    }\n",
              "</style>\n",
              "<table border=\"1\" class=\"dataframe\">\n",
              "  <thead>\n",
              "    <tr style=\"text-align: right;\">\n",
              "      <th></th>\n",
              "      <th>Ocean Freight</th>\n",
              "      <th>Day sin</th>\n",
              "      <th>Day cos</th>\n",
              "      <th>Year sin</th>\n",
              "      <th>Year cos</th>\n",
              "    </tr>\n",
              "    <tr>\n",
              "      <th>Validity From</th>\n",
              "      <th></th>\n",
              "      <th></th>\n",
              "      <th></th>\n",
              "      <th></th>\n",
              "      <th></th>\n",
              "    </tr>\n",
              "  </thead>\n",
              "  <tbody>\n",
              "    <tr>\n",
              "      <th>2021-12-01</th>\n",
              "      <td>1.759329</td>\n",
              "      <td>-1.093976e-11</td>\n",
              "      <td>1.0</td>\n",
              "      <td>-0.502577</td>\n",
              "      <td>0.864532</td>\n",
              "    </tr>\n",
              "    <tr>\n",
              "      <th>2022-01-01</th>\n",
              "      <td>1.660384</td>\n",
              "      <td>-8.652299e-12</td>\n",
              "      <td>1.0</td>\n",
              "      <td>0.006709</td>\n",
              "      <td>0.999977</td>\n",
              "    </tr>\n",
              "    <tr>\n",
              "      <th>2022-01-21</th>\n",
              "      <td>1.261411</td>\n",
              "      <td>-9.993018e-12</td>\n",
              "      <td>1.0</td>\n",
              "      <td>0.343616</td>\n",
              "      <td>0.939110</td>\n",
              "    </tr>\n",
              "    <tr>\n",
              "      <th>2022-02-15</th>\n",
              "      <td>1.261411</td>\n",
              "      <td>-4.392959e-12</td>\n",
              "      <td>1.0</td>\n",
              "      <td>0.703872</td>\n",
              "      <td>0.710327</td>\n",
              "    </tr>\n",
              "    <tr>\n",
              "      <th>2022-02-21</th>\n",
              "      <td>1.261411</td>\n",
              "      <td>-7.705558e-12</td>\n",
              "      <td>1.0</td>\n",
              "      <td>0.773313</td>\n",
              "      <td>0.634024</td>\n",
              "    </tr>\n",
              "    <tr>\n",
              "      <th>...</th>\n",
              "      <td>...</td>\n",
              "      <td>...</td>\n",
              "      <td>...</td>\n",
              "      <td>...</td>\n",
              "      <td>...</td>\n",
              "    </tr>\n",
              "    <tr>\n",
              "      <th>2023-01-13</th>\n",
              "      <td>-1.290419</td>\n",
              "      <td>-3.365829e-12</td>\n",
              "      <td>1.0</td>\n",
              "      <td>0.207453</td>\n",
              "      <td>0.978245</td>\n",
              "    </tr>\n",
              "    <tr>\n",
              "      <th>2023-02-01</th>\n",
              "      <td>-1.190676</td>\n",
              "      <td>-9.005086e-12</td>\n",
              "      <td>1.0</td>\n",
              "      <td>0.510549</td>\n",
              "      <td>0.859848</td>\n",
              "    </tr>\n",
              "    <tr>\n",
              "      <th>2023-02-07</th>\n",
              "      <td>-1.190676</td>\n",
              "      <td>-1.231769e-11</td>\n",
              "      <td>1.0</td>\n",
              "      <td>0.596425</td>\n",
              "      <td>0.802669</td>\n",
              "    </tr>\n",
              "    <tr>\n",
              "      <th>2023-02-15</th>\n",
              "      <td>-1.110881</td>\n",
              "      <td>-7.033207e-12</td>\n",
              "      <td>1.0</td>\n",
              "      <td>0.700903</td>\n",
              "      <td>0.713257</td>\n",
              "    </tr>\n",
              "    <tr>\n",
              "      <th>2023-02-17</th>\n",
              "      <td>-1.110881</td>\n",
              "      <td>-1.298804e-11</td>\n",
              "      <td>1.0</td>\n",
              "      <td>0.725023</td>\n",
              "      <td>0.688725</td>\n",
              "    </tr>\n",
              "  </tbody>\n",
              "</table>\n",
              "<p>68 rows × 5 columns</p>\n",
              "</div>\n",
              "      <button class=\"colab-df-convert\" onclick=\"convertToInteractive('df-b5464d4b-6f76-4e02-a346-1d04628fc811')\"\n",
              "              title=\"Convert this dataframe to an interactive table.\"\n",
              "              style=\"display:none;\">\n",
              "        \n",
              "  <svg xmlns=\"http://www.w3.org/2000/svg\" height=\"24px\"viewBox=\"0 0 24 24\"\n",
              "       width=\"24px\">\n",
              "    <path d=\"M0 0h24v24H0V0z\" fill=\"none\"/>\n",
              "    <path d=\"M18.56 5.44l.94 2.06.94-2.06 2.06-.94-2.06-.94-.94-2.06-.94 2.06-2.06.94zm-11 1L8.5 8.5l.94-2.06 2.06-.94-2.06-.94L8.5 2.5l-.94 2.06-2.06.94zm10 10l.94 2.06.94-2.06 2.06-.94-2.06-.94-.94-2.06-.94 2.06-2.06.94z\"/><path d=\"M17.41 7.96l-1.37-1.37c-.4-.4-.92-.59-1.43-.59-.52 0-1.04.2-1.43.59L10.3 9.45l-7.72 7.72c-.78.78-.78 2.05 0 2.83L4 21.41c.39.39.9.59 1.41.59.51 0 1.02-.2 1.41-.59l7.78-7.78 2.81-2.81c.8-.78.8-2.07 0-2.86zM5.41 20L4 18.59l7.72-7.72 1.47 1.35L5.41 20z\"/>\n",
              "  </svg>\n",
              "      </button>\n",
              "      \n",
              "  <style>\n",
              "    .colab-df-container {\n",
              "      display:flex;\n",
              "      flex-wrap:wrap;\n",
              "      gap: 12px;\n",
              "    }\n",
              "\n",
              "    .colab-df-convert {\n",
              "      background-color: #E8F0FE;\n",
              "      border: none;\n",
              "      border-radius: 50%;\n",
              "      cursor: pointer;\n",
              "      display: none;\n",
              "      fill: #1967D2;\n",
              "      height: 32px;\n",
              "      padding: 0 0 0 0;\n",
              "      width: 32px;\n",
              "    }\n",
              "\n",
              "    .colab-df-convert:hover {\n",
              "      background-color: #E2EBFA;\n",
              "      box-shadow: 0px 1px 2px rgba(60, 64, 67, 0.3), 0px 1px 3px 1px rgba(60, 64, 67, 0.15);\n",
              "      fill: #174EA6;\n",
              "    }\n",
              "\n",
              "    [theme=dark] .colab-df-convert {\n",
              "      background-color: #3B4455;\n",
              "      fill: #D2E3FC;\n",
              "    }\n",
              "\n",
              "    [theme=dark] .colab-df-convert:hover {\n",
              "      background-color: #434B5C;\n",
              "      box-shadow: 0px 1px 3px 1px rgba(0, 0, 0, 0.15);\n",
              "      filter: drop-shadow(0px 1px 2px rgba(0, 0, 0, 0.3));\n",
              "      fill: #FFFFFF;\n",
              "    }\n",
              "  </style>\n",
              "\n",
              "      <script>\n",
              "        const buttonEl =\n",
              "          document.querySelector('#df-b5464d4b-6f76-4e02-a346-1d04628fc811 button.colab-df-convert');\n",
              "        buttonEl.style.display =\n",
              "          google.colab.kernel.accessAllowed ? 'block' : 'none';\n",
              "\n",
              "        async function convertToInteractive(key) {\n",
              "          const element = document.querySelector('#df-b5464d4b-6f76-4e02-a346-1d04628fc811');\n",
              "          const dataTable =\n",
              "            await google.colab.kernel.invokeFunction('convertToInteractive',\n",
              "                                                     [key], {});\n",
              "          if (!dataTable) return;\n",
              "\n",
              "          const docLinkHtml = 'Like what you see? Visit the ' +\n",
              "            '<a target=\"_blank\" href=https://colab.research.google.com/notebooks/data_table.ipynb>data table notebook</a>'\n",
              "            + ' to learn more about interactive tables.';\n",
              "          element.innerHTML = '';\n",
              "          dataTable['output_type'] = 'display_data';\n",
              "          await google.colab.output.renderOutput(dataTable, element);\n",
              "          const docLink = document.createElement('div');\n",
              "          docLink.innerHTML = docLinkHtml;\n",
              "          element.appendChild(docLink);\n",
              "        }\n",
              "      </script>\n",
              "    </div>\n",
              "  </div>\n",
              "  "
            ]
          },
          "metadata": {},
          "execution_count": 10
        }
      ]
    },
    {
      "cell_type": "code",
      "source": [
        "xtrain,ytrain=df_to_X_y2(data_final,window_size=3)\n",
        "xtrain.shape,ytrain.shape"
      ],
      "metadata": {
        "colab": {
          "base_uri": "https://localhost:8080/"
        },
        "id": "QYN0NtR40IY8",
        "outputId": "289ee539-f71d-46fa-8a26-0f1b595f0203"
      },
      "execution_count": null,
      "outputs": [
        {
          "output_type": "execute_result",
          "data": {
            "text/plain": [
              "((65, 3, 5), (65,))"
            ]
          },
          "metadata": {},
          "execution_count": 15
        }
      ]
    },
    {
      "cell_type": "code",
      "source": [
        "from tensorflow.keras.models import Sequential\n",
        "from tensorflow.keras.layers import *\n",
        "from tensorflow.keras.callbacks import ModelCheckpoint\n",
        "from tensorflow.keras.losses import MeanSquaredError\n",
        "from tensorflow.keras.metrics import RootMeanSquaredError\n",
        "from tensorflow.keras.optimizers import Adam"
      ],
      "metadata": {
        "id": "JdTyV9hgM9bh"
      },
      "execution_count": null,
      "outputs": []
    },
    {
      "cell_type": "code",
      "source": [
        "model=Sequential()\n",
        "model.add(InputLayer((3,5)))\n",
        "model.add(LSTM(40)) #64\n",
        "model.add(Dense(8,\"relu\")) #8\n",
        "model.add(Dense(1,\"linear\")) #1\n",
        "model.summary()"
      ],
      "metadata": {
        "colab": {
          "base_uri": "https://localhost:8080/"
        },
        "id": "mdbWx72kNCc6",
        "outputId": "a1c9bb9d-f865-423e-d19e-8cfee3adfe6f"
      },
      "execution_count": null,
      "outputs": [
        {
          "output_type": "stream",
          "name": "stdout",
          "text": [
            "Model: \"sequential_1\"\n",
            "_________________________________________________________________\n",
            " Layer (type)                Output Shape              Param #   \n",
            "=================================================================\n",
            " lstm_1 (LSTM)               (None, 40)                7360      \n",
            "                                                                 \n",
            " dense_2 (Dense)             (None, 8)                 328       \n",
            "                                                                 \n",
            " dense_3 (Dense)             (None, 1)                 9         \n",
            "                                                                 \n",
            "=================================================================\n",
            "Total params: 7,697\n",
            "Trainable params: 7,697\n",
            "Non-trainable params: 0\n",
            "_________________________________________________________________\n"
          ]
        }
      ]
    },
    {
      "cell_type": "code",
      "source": [
        "cp1=ModelCheckpoint(\"model/\",save_best_only=True)\n",
        "model.compile(loss=MeanSquaredError(),optimizer=Adam(learning_rate=0.001),metrics=[RootMeanSquaredError()])"
      ],
      "metadata": {
        "id": "arpPVJXFNL_k"
      },
      "execution_count": null,
      "outputs": []
    },
    {
      "cell_type": "code",
      "source": [
        "model.fit(xtrain,ytrain,epochs=20,callbacks=[cp1])"
      ],
      "metadata": {
        "colab": {
          "base_uri": "https://localhost:8080/"
        },
        "id": "UNXGl6-INS9Y",
        "outputId": "2be84b70-e059-4c97-ffea-eb14f7b64617"
      },
      "execution_count": null,
      "outputs": [
        {
          "output_type": "stream",
          "name": "stdout",
          "text": [
            "Epoch 1/20\n",
            "1/3 [=========>....................] - ETA: 4s - loss: 0.7990 - root_mean_squared_error: 0.8939"
          ]
        },
        {
          "output_type": "stream",
          "name": "stderr",
          "text": [
            "WARNING:tensorflow:Can save best model only with val_loss available, skipping.\n"
          ]
        },
        {
          "output_type": "stream",
          "name": "stdout",
          "text": [
            "\b\b\b\b\b\b\b\b\b\b\b\b\b\b\b\b\b\b\b\b\b\b\b\b\b\b\b\b\b\b\b\b\b\b\b\b\b\b\b\b\b\b\b\b\b\b\b\b\b\b\b\b\b\b\b\b\b\b\b\b\b\b\b\b\b\b\b\b\b\b\b\b\b\b\b\b\b\b\b\b\b\b\b\b\b\b\b\b\b\b\b\b\b\b\b\r3/3 [==============================] - 2s 10ms/step - loss: 0.8606 - root_mean_squared_error: 0.9277\n",
            "Epoch 2/20\n",
            "1/3 [=========>....................] - ETA: 0s - loss: 0.7419 - root_mean_squared_error: 0.8613"
          ]
        },
        {
          "output_type": "stream",
          "name": "stderr",
          "text": [
            "WARNING:tensorflow:Can save best model only with val_loss available, skipping.\n"
          ]
        },
        {
          "output_type": "stream",
          "name": "stdout",
          "text": [
            "\b\b\b\b\b\b\b\b\b\b\b\b\b\b\b\b\b\b\b\b\b\b\b\b\b\b\b\b\b\b\b\b\b\b\b\b\b\b\b\b\b\b\b\b\b\b\b\b\b\b\b\b\b\b\b\b\b\b\b\b\b\b\b\b\b\b\b\b\b\b\b\b\b\b\b\b\b\b\b\b\b\b\b\b\b\b\b\b\b\b\b\b\b\b\b\r3/3 [==============================] - 0s 9ms/step - loss: 0.7738 - root_mean_squared_error: 0.8796\n",
            "Epoch 3/20\n",
            "1/3 [=========>....................] - ETA: 0s - loss: 0.7938 - root_mean_squared_error: 0.8909"
          ]
        },
        {
          "output_type": "stream",
          "name": "stderr",
          "text": [
            "WARNING:tensorflow:Can save best model only with val_loss available, skipping.\n"
          ]
        },
        {
          "output_type": "stream",
          "name": "stdout",
          "text": [
            "\b\b\b\b\b\b\b\b\b\b\b\b\b\b\b\b\b\b\b\b\b\b\b\b\b\b\b\b\b\b\b\b\b\b\b\b\b\b\b\b\b\b\b\b\b\b\b\b\b\b\b\b\b\b\b\b\b\b\b\b\b\b\b\b\b\b\b\b\b\b\b\b\b\b\b\b\b\b\b\b\b\b\b\b\b\b\b\b\b\b\b\b\b\b\b\r3/3 [==============================] - 0s 8ms/step - loss: 0.7042 - root_mean_squared_error: 0.8392\n",
            "Epoch 4/20\n",
            "1/3 [=========>....................] - ETA: 0s - loss: 0.7006 - root_mean_squared_error: 0.8370"
          ]
        },
        {
          "output_type": "stream",
          "name": "stderr",
          "text": [
            "WARNING:tensorflow:Can save best model only with val_loss available, skipping.\n"
          ]
        },
        {
          "output_type": "stream",
          "name": "stdout",
          "text": [
            "\b\b\b\b\b\b\b\b\b\b\b\b\b\b\b\b\b\b\b\b\b\b\b\b\b\b\b\b\b\b\b\b\b\b\b\b\b\b\b\b\b\b\b\b\b\b\b\b\b\b\b\b\b\b\b\b\b\b\b\b\b\b\b\b\b\b\b\b\b\b\b\b\b\b\b\b\b\b\b\b\b\b\b\b\b\b\b\b\b\b\b\b\b\b\b\r3/3 [==============================] - 0s 9ms/step - loss: 0.6446 - root_mean_squared_error: 0.8029\n",
            "Epoch 5/20\n",
            "1/3 [=========>....................] - ETA: 0s - loss: 0.6094 - root_mean_squared_error: 0.7807"
          ]
        },
        {
          "output_type": "stream",
          "name": "stderr",
          "text": [
            "WARNING:tensorflow:Can save best model only with val_loss available, skipping.\n"
          ]
        },
        {
          "output_type": "stream",
          "name": "stdout",
          "text": [
            "\b\b\b\b\b\b\b\b\b\b\b\b\b\b\b\b\b\b\b\b\b\b\b\b\b\b\b\b\b\b\b\b\b\b\b\b\b\b\b\b\b\b\b\b\b\b\b\b\b\b\b\b\b\b\b\b\b\b\b\b\b\b\b\b\b\b\b\b\b\b\b\b\b\b\b\b\b\b\b\b\b\b\b\b\b\b\b\b\b\b\b\b\b\b\b\r3/3 [==============================] - 0s 10ms/step - loss: 0.5902 - root_mean_squared_error: 0.7682\n",
            "Epoch 6/20\n",
            "1/3 [=========>....................] - ETA: 0s - loss: 0.5150 - root_mean_squared_error: 0.7176"
          ]
        },
        {
          "output_type": "stream",
          "name": "stderr",
          "text": [
            "WARNING:tensorflow:Can save best model only with val_loss available, skipping.\n"
          ]
        },
        {
          "output_type": "stream",
          "name": "stdout",
          "text": [
            "\b\b\b\b\b\b\b\b\b\b\b\b\b\b\b\b\b\b\b\b\b\b\b\b\b\b\b\b\b\b\b\b\b\b\b\b\b\b\b\b\b\b\b\b\b\b\b\b\b\b\b\b\b\b\b\b\b\b\b\b\b\b\b\b\b\b\b\b\b\b\b\b\b\b\b\b\b\b\b\b\b\b\b\b\b\b\b\b\b\b\b\b\b\b\b\r3/3 [==============================] - 0s 7ms/step - loss: 0.5356 - root_mean_squared_error: 0.7318\n",
            "Epoch 7/20\n",
            "1/3 [=========>....................] - ETA: 0s - loss: 0.5076 - root_mean_squared_error: 0.7125"
          ]
        },
        {
          "output_type": "stream",
          "name": "stderr",
          "text": [
            "WARNING:tensorflow:Can save best model only with val_loss available, skipping.\n"
          ]
        },
        {
          "output_type": "stream",
          "name": "stdout",
          "text": [
            "\b\b\b\b\b\b\b\b\b\b\b\b\b\b\b\b\b\b\b\b\b\b\b\b\b\b\b\b\b\b\b\b\b\b\b\b\b\b\b\b\b\b\b\b\b\b\b\b\b\b\b\b\b\b\b\b\b\b\b\b\b\b\b\b\b\b\b\b\b\b\b\b\b\b\b\b\b\b\b\b\b\b\b\b\b\b\b\b\b\b\b\b\b\b\b\r3/3 [==============================] - 0s 9ms/step - loss: 0.4797 - root_mean_squared_error: 0.6926\n",
            "Epoch 8/20\n",
            "1/3 [=========>....................] - ETA: 0s - loss: 0.4494 - root_mean_squared_error: 0.6704"
          ]
        },
        {
          "output_type": "stream",
          "name": "stderr",
          "text": [
            "WARNING:tensorflow:Can save best model only with val_loss available, skipping.\n"
          ]
        },
        {
          "output_type": "stream",
          "name": "stdout",
          "text": [
            "\b\b\b\b\b\b\b\b\b\b\b\b\b\b\b\b\b\b\b\b\b\b\b\b\b\b\b\b\b\b\b\b\b\b\b\b\b\b\b\b\b\b\b\b\b\b\b\b\b\b\b\b\b\b\b\b\b\b\b\b\b\b\b\b\b\b\b\b\b\b\b\b\b\b\b\b\b\b\b\b\b\b\b\b\b\b\b\b\b\b\b\b\b\b\b\r3/3 [==============================] - 0s 8ms/step - loss: 0.4262 - root_mean_squared_error: 0.6529\n",
            "Epoch 9/20\n",
            "1/3 [=========>....................] - ETA: 0s - loss: 0.4046 - root_mean_squared_error: 0.6361"
          ]
        },
        {
          "output_type": "stream",
          "name": "stderr",
          "text": [
            "WARNING:tensorflow:Can save best model only with val_loss available, skipping.\n"
          ]
        },
        {
          "output_type": "stream",
          "name": "stdout",
          "text": [
            "\b\b\b\b\b\b\b\b\b\b\b\b\b\b\b\b\b\b\b\b\b\b\b\b\b\b\b\b\b\b\b\b\b\b\b\b\b\b\b\b\b\b\b\b\b\b\b\b\b\b\b\b\b\b\b\b\b\b\b\b\b\b\b\b\b\b\b\b\b\b\b\b\b\b\b\b\b\b\b\b\b\b\b\b\b\b\b\b\b\b\b\b\b\b\b\r3/3 [==============================] - 0s 11ms/step - loss: 0.3730 - root_mean_squared_error: 0.6107\n",
            "Epoch 10/20\n",
            "1/3 [=========>....................] - ETA: 0s - loss: 0.3161 - root_mean_squared_error: 0.5623"
          ]
        },
        {
          "output_type": "stream",
          "name": "stderr",
          "text": [
            "WARNING:tensorflow:Can save best model only with val_loss available, skipping.\n"
          ]
        },
        {
          "output_type": "stream",
          "name": "stdout",
          "text": [
            "\b\b\b\b\b\b\b\b\b\b\b\b\b\b\b\b\b\b\b\b\b\b\b\b\b\b\b\b\b\b\b\b\b\b\b\b\b\b\b\b\b\b\b\b\b\b\b\b\b\b\b\b\b\b\b\b\b\b\b\b\b\b\b\b\b\b\b\b\b\b\b\b\b\b\b\b\b\b\b\b\b\b\b\b\b\b\b\b\b\b\b\b\b\b\b\r3/3 [==============================] - 0s 8ms/step - loss: 0.3265 - root_mean_squared_error: 0.5714\n",
            "Epoch 11/20\n",
            "1/3 [=========>....................] - ETA: 0s - loss: 0.3515 - root_mean_squared_error: 0.5929"
          ]
        },
        {
          "output_type": "stream",
          "name": "stderr",
          "text": [
            "WARNING:tensorflow:Can save best model only with val_loss available, skipping.\n"
          ]
        },
        {
          "output_type": "stream",
          "name": "stdout",
          "text": [
            "\b\b\b\b\b\b\b\b\b\b\b\b\b\b\b\b\b\b\b\b\b\b\b\b\b\b\b\b\b\b\b\b\b\b\b\b\b\b\b\b\b\b\b\b\b\b\b\b\b\b\b\b\b\b\b\b\b\b\b\b\b\b\b\b\b\b\b\b\b\b\b\b\b\b\b\b\b\b\b\b\b\b\b\b\b\b\b\b\b\b\b\b\b\b\b\r3/3 [==============================] - 0s 7ms/step - loss: 0.2880 - root_mean_squared_error: 0.5366\n",
            "Epoch 12/20\n",
            "1/3 [=========>....................] - ETA: 0s - loss: 0.2314 - root_mean_squared_error: 0.4810"
          ]
        },
        {
          "output_type": "stream",
          "name": "stderr",
          "text": [
            "WARNING:tensorflow:Can save best model only with val_loss available, skipping.\n"
          ]
        },
        {
          "output_type": "stream",
          "name": "stdout",
          "text": [
            "\b\b\b\b\b\b\b\b\b\b\b\b\b\b\b\b\b\b\b\b\b\b\b\b\b\b\b\b\b\b\b\b\b\b\b\b\b\b\b\b\b\b\b\b\b\b\b\b\b\b\b\b\b\b\b\b\b\b\b\b\b\b\b\b\b\b\b\b\b\b\b\b\b\b\b\b\b\b\b\b\b\b\b\b\b\b\b\b\b\b\b\b\b\b\b\r3/3 [==============================] - 0s 8ms/step - loss: 0.2564 - root_mean_squared_error: 0.5064\n",
            "Epoch 13/20\n",
            "1/3 [=========>....................] - ETA: 0s - loss: 0.3094 - root_mean_squared_error: 0.5562"
          ]
        },
        {
          "output_type": "stream",
          "name": "stderr",
          "text": [
            "WARNING:tensorflow:Can save best model only with val_loss available, skipping.\n"
          ]
        },
        {
          "output_type": "stream",
          "name": "stdout",
          "text": [
            "\b\b\b\b\b\b\b\b\b\b\b\b\b\b\b\b\b\b\b\b\b\b\b\b\b\b\b\b\b\b\b\b\b\b\b\b\b\b\b\b\b\b\b\b\b\b\b\b\b\b\b\b\b\b\b\b\b\b\b\b\b\b\b\b\b\b\b\b\b\b\b\b\b\b\b\b\b\b\b\b\b\b\b\b\b\b\b\b\b\b\b\b\b\b\b\r3/3 [==============================] - 0s 8ms/step - loss: 0.2322 - root_mean_squared_error: 0.4819\n",
            "Epoch 14/20\n",
            "1/3 [=========>....................] - ETA: 0s - loss: 0.1870 - root_mean_squared_error: 0.4324"
          ]
        },
        {
          "output_type": "stream",
          "name": "stderr",
          "text": [
            "WARNING:tensorflow:Can save best model only with val_loss available, skipping.\n"
          ]
        },
        {
          "output_type": "stream",
          "name": "stdout",
          "text": [
            "\b\b\b\b\b\b\b\b\b\b\b\b\b\b\b\b\b\b\b\b\b\b\b\b\b\b\b\b\b\b\b\b\b\b\b\b\b\b\b\b\b\b\b\b\b\b\b\b\b\b\b\b\b\b\b\b\b\b\b\b\b\b\b\b\b\b\b\b\b\b\b\b\b\b\b\b\b\b\b\b\b\b\b\b\b\b\b\b\b\b\b\b\b\b\b\r3/3 [==============================] - 0s 8ms/step - loss: 0.2110 - root_mean_squared_error: 0.4594\n",
            "Epoch 15/20\n",
            "1/3 [=========>....................] - ETA: 0s - loss: 0.2072 - root_mean_squared_error: 0.4552"
          ]
        },
        {
          "output_type": "stream",
          "name": "stderr",
          "text": [
            "WARNING:tensorflow:Can save best model only with val_loss available, skipping.\n"
          ]
        },
        {
          "output_type": "stream",
          "name": "stdout",
          "text": [
            "\b\b\b\b\b\b\b\b\b\b\b\b\b\b\b\b\b\b\b\b\b\b\b\b\b\b\b\b\b\b\b\b\b\b\b\b\b\b\b\b\b\b\b\b\b\b\b\b\b\b\b\b\b\b\b\b\b\b\b\b\b\b\b\b\b\b\b\b\b\b\b\b\b\b\b\b\b\b\b\b\b\b\b\b\b\b\b\b\b\b\b\b\b\b\b\r3/3 [==============================] - 0s 8ms/step - loss: 0.1958 - root_mean_squared_error: 0.4425\n",
            "Epoch 16/20\n",
            "1/3 [=========>....................] - ETA: 0s - loss: 0.2364 - root_mean_squared_error: 0.4862"
          ]
        },
        {
          "output_type": "stream",
          "name": "stderr",
          "text": [
            "WARNING:tensorflow:Can save best model only with val_loss available, skipping.\n"
          ]
        },
        {
          "output_type": "stream",
          "name": "stdout",
          "text": [
            "\b\b\b\b\b\b\b\b\b\b\b\b\b\b\b\b\b\b\b\b\b\b\b\b\b\b\b\b\b\b\b\b\b\b\b\b\b\b\b\b\b\b\b\b\b\b\b\b\b\b\b\b\b\b\b\b\b\b\b\b\b\b\b\b\b\b\b\b\b\b\b\b\b\b\b\b\b\b\b\b\b\b\b\b\b\b\b\b\b\b\b\b\b\b\b\r3/3 [==============================] - 0s 7ms/step - loss: 0.1829 - root_mean_squared_error: 0.4276\n",
            "Epoch 17/20\n",
            "1/3 [=========>....................] - ETA: 0s - loss: 0.1693 - root_mean_squared_error: 0.4114"
          ]
        },
        {
          "output_type": "stream",
          "name": "stderr",
          "text": [
            "WARNING:tensorflow:Can save best model only with val_loss available, skipping.\n"
          ]
        },
        {
          "output_type": "stream",
          "name": "stdout",
          "text": [
            "\b\b\b\b\b\b\b\b\b\b\b\b\b\b\b\b\b\b\b\b\b\b\b\b\b\b\b\b\b\b\b\b\b\b\b\b\b\b\b\b\b\b\b\b\b\b\b\b\b\b\b\b\b\b\b\b\b\b\b\b\b\b\b\b\b\b\b\b\b\b\b\b\b\b\b\b\b\b\b\b\b\b\b\b\b\b\b\b\b\b\b\b\b\b\b\r3/3 [==============================] - 0s 7ms/step - loss: 0.1698 - root_mean_squared_error: 0.4120\n",
            "Epoch 18/20\n",
            "1/3 [=========>....................] - ETA: 0s - loss: 0.1610 - root_mean_squared_error: 0.4013"
          ]
        },
        {
          "output_type": "stream",
          "name": "stderr",
          "text": [
            "WARNING:tensorflow:Can save best model only with val_loss available, skipping.\n"
          ]
        },
        {
          "output_type": "stream",
          "name": "stdout",
          "text": [
            "\b\b\b\b\b\b\b\b\b\b\b\b\b\b\b\b\b\b\b\b\b\b\b\b\b\b\b\b\b\b\b\b\b\b\b\b\b\b\b\b\b\b\b\b\b\b\b\b\b\b\b\b\b\b\b\b\b\b\b\b\b\b\b\b\b\b\b\b\b\b\b\b\b\b\b\b\b\b\b\b\b\b\b\b\b\b\b\b\b\b\b\b\b\b\b\r3/3 [==============================] - 0s 9ms/step - loss: 0.1548 - root_mean_squared_error: 0.3935\n",
            "Epoch 19/20\n",
            "1/3 [=========>....................] - ETA: 0s - loss: 0.1366 - root_mean_squared_error: 0.3696"
          ]
        },
        {
          "output_type": "stream",
          "name": "stderr",
          "text": [
            "WARNING:tensorflow:Can save best model only with val_loss available, skipping.\n"
          ]
        },
        {
          "output_type": "stream",
          "name": "stdout",
          "text": [
            "\b\b\b\b\b\b\b\b\b\b\b\b\b\b\b\b\b\b\b\b\b\b\b\b\b\b\b\b\b\b\b\b\b\b\b\b\b\b\b\b\b\b\b\b\b\b\b\b\b\b\b\b\b\b\b\b\b\b\b\b\b\b\b\b\b\b\b\b\b\b\b\b\b\b\b\b\b\b\b\b\b\b\b\b\b\b\b\b\b\b\b\b\b\b\b\r3/3 [==============================] - 0s 13ms/step - loss: 0.1401 - root_mean_squared_error: 0.3743\n",
            "Epoch 20/20\n",
            "1/3 [=========>....................] - ETA: 0s - loss: 0.1338 - root_mean_squared_error: 0.3658"
          ]
        },
        {
          "output_type": "stream",
          "name": "stderr",
          "text": [
            "WARNING:tensorflow:Can save best model only with val_loss available, skipping.\n"
          ]
        },
        {
          "output_type": "stream",
          "name": "stdout",
          "text": [
            "\b\b\b\b\b\b\b\b\b\b\b\b\b\b\b\b\b\b\b\b\b\b\b\b\b\b\b\b\b\b\b\b\b\b\b\b\b\b\b\b\b\b\b\b\b\b\b\b\b\b\b\b\b\b\b\b\b\b\b\b\b\b\b\b\b\b\b\b\b\b\b\b\b\b\b\b\b\b\b\b\b\b\b\b\b\b\b\b\b\b\b\b\b\b\b\r3/3 [==============================] - 0s 8ms/step - loss: 0.1276 - root_mean_squared_error: 0.3572\n"
          ]
        },
        {
          "output_type": "execute_result",
          "data": {
            "text/plain": [
              "<keras.callbacks.History at 0x7f9f815c6280>"
            ]
          },
          "metadata": {},
          "execution_count": 19
        }
      ]
    },
    {
      "cell_type": "code",
      "source": [
        "train_predictions = model.predict(xtrain).flatten()\n",
        "train_results = pd.DataFrame(data={'Train Predictions':train_predictions, 'Actuals freight pct change':ytrain})\n",
        "train_results"
      ],
      "metadata": {
        "colab": {
          "base_uri": "https://localhost:8080/",
          "height": 441
        },
        "id": "ppt7RY6mNicv",
        "outputId": "0f7b653c-feb9-4b5e-f6ad-82825fa0c557"
      },
      "execution_count": null,
      "outputs": [
        {
          "output_type": "stream",
          "name": "stdout",
          "text": [
            "3/3 [==============================] - 0s 3ms/step\n"
          ]
        },
        {
          "output_type": "execute_result",
          "data": {
            "text/plain": [
              "    Train Predictions  Actuals freight pct change\n",
              "0            0.684448                    1.261411\n",
              "1            0.665431                    1.261411\n",
              "2            0.643524                    1.261411\n",
              "3            0.648463                    1.221514\n",
              "4            0.646176                    1.141719\n",
              "..                ...                         ...\n",
              "60          -1.240993                   -1.290419\n",
              "61          -1.248129                   -1.190676\n",
              "62          -1.216283                   -1.190676\n",
              "63          -1.172784                   -1.110881\n",
              "64          -1.105934                   -1.110881\n",
              "\n",
              "[65 rows x 2 columns]"
            ],
            "text/html": [
              "\n",
              "  <div id=\"df-ec1d5719-7655-4e46-b15c-751b823689c4\">\n",
              "    <div class=\"colab-df-container\">\n",
              "      <div>\n",
              "<style scoped>\n",
              "    .dataframe tbody tr th:only-of-type {\n",
              "        vertical-align: middle;\n",
              "    }\n",
              "\n",
              "    .dataframe tbody tr th {\n",
              "        vertical-align: top;\n",
              "    }\n",
              "\n",
              "    .dataframe thead th {\n",
              "        text-align: right;\n",
              "    }\n",
              "</style>\n",
              "<table border=\"1\" class=\"dataframe\">\n",
              "  <thead>\n",
              "    <tr style=\"text-align: right;\">\n",
              "      <th></th>\n",
              "      <th>Train Predictions</th>\n",
              "      <th>Actuals freight pct change</th>\n",
              "    </tr>\n",
              "  </thead>\n",
              "  <tbody>\n",
              "    <tr>\n",
              "      <th>0</th>\n",
              "      <td>0.684448</td>\n",
              "      <td>1.261411</td>\n",
              "    </tr>\n",
              "    <tr>\n",
              "      <th>1</th>\n",
              "      <td>0.665431</td>\n",
              "      <td>1.261411</td>\n",
              "    </tr>\n",
              "    <tr>\n",
              "      <th>2</th>\n",
              "      <td>0.643524</td>\n",
              "      <td>1.261411</td>\n",
              "    </tr>\n",
              "    <tr>\n",
              "      <th>3</th>\n",
              "      <td>0.648463</td>\n",
              "      <td>1.221514</td>\n",
              "    </tr>\n",
              "    <tr>\n",
              "      <th>4</th>\n",
              "      <td>0.646176</td>\n",
              "      <td>1.141719</td>\n",
              "    </tr>\n",
              "    <tr>\n",
              "      <th>...</th>\n",
              "      <td>...</td>\n",
              "      <td>...</td>\n",
              "    </tr>\n",
              "    <tr>\n",
              "      <th>60</th>\n",
              "      <td>-1.240993</td>\n",
              "      <td>-1.290419</td>\n",
              "    </tr>\n",
              "    <tr>\n",
              "      <th>61</th>\n",
              "      <td>-1.248129</td>\n",
              "      <td>-1.190676</td>\n",
              "    </tr>\n",
              "    <tr>\n",
              "      <th>62</th>\n",
              "      <td>-1.216283</td>\n",
              "      <td>-1.190676</td>\n",
              "    </tr>\n",
              "    <tr>\n",
              "      <th>63</th>\n",
              "      <td>-1.172784</td>\n",
              "      <td>-1.110881</td>\n",
              "    </tr>\n",
              "    <tr>\n",
              "      <th>64</th>\n",
              "      <td>-1.105934</td>\n",
              "      <td>-1.110881</td>\n",
              "    </tr>\n",
              "  </tbody>\n",
              "</table>\n",
              "<p>65 rows × 2 columns</p>\n",
              "</div>\n",
              "      <button class=\"colab-df-convert\" onclick=\"convertToInteractive('df-ec1d5719-7655-4e46-b15c-751b823689c4')\"\n",
              "              title=\"Convert this dataframe to an interactive table.\"\n",
              "              style=\"display:none;\">\n",
              "        \n",
              "  <svg xmlns=\"http://www.w3.org/2000/svg\" height=\"24px\"viewBox=\"0 0 24 24\"\n",
              "       width=\"24px\">\n",
              "    <path d=\"M0 0h24v24H0V0z\" fill=\"none\"/>\n",
              "    <path d=\"M18.56 5.44l.94 2.06.94-2.06 2.06-.94-2.06-.94-.94-2.06-.94 2.06-2.06.94zm-11 1L8.5 8.5l.94-2.06 2.06-.94-2.06-.94L8.5 2.5l-.94 2.06-2.06.94zm10 10l.94 2.06.94-2.06 2.06-.94-2.06-.94-.94-2.06-.94 2.06-2.06.94z\"/><path d=\"M17.41 7.96l-1.37-1.37c-.4-.4-.92-.59-1.43-.59-.52 0-1.04.2-1.43.59L10.3 9.45l-7.72 7.72c-.78.78-.78 2.05 0 2.83L4 21.41c.39.39.9.59 1.41.59.51 0 1.02-.2 1.41-.59l7.78-7.78 2.81-2.81c.8-.78.8-2.07 0-2.86zM5.41 20L4 18.59l7.72-7.72 1.47 1.35L5.41 20z\"/>\n",
              "  </svg>\n",
              "      </button>\n",
              "      \n",
              "  <style>\n",
              "    .colab-df-container {\n",
              "      display:flex;\n",
              "      flex-wrap:wrap;\n",
              "      gap: 12px;\n",
              "    }\n",
              "\n",
              "    .colab-df-convert {\n",
              "      background-color: #E8F0FE;\n",
              "      border: none;\n",
              "      border-radius: 50%;\n",
              "      cursor: pointer;\n",
              "      display: none;\n",
              "      fill: #1967D2;\n",
              "      height: 32px;\n",
              "      padding: 0 0 0 0;\n",
              "      width: 32px;\n",
              "    }\n",
              "\n",
              "    .colab-df-convert:hover {\n",
              "      background-color: #E2EBFA;\n",
              "      box-shadow: 0px 1px 2px rgba(60, 64, 67, 0.3), 0px 1px 3px 1px rgba(60, 64, 67, 0.15);\n",
              "      fill: #174EA6;\n",
              "    }\n",
              "\n",
              "    [theme=dark] .colab-df-convert {\n",
              "      background-color: #3B4455;\n",
              "      fill: #D2E3FC;\n",
              "    }\n",
              "\n",
              "    [theme=dark] .colab-df-convert:hover {\n",
              "      background-color: #434B5C;\n",
              "      box-shadow: 0px 1px 3px 1px rgba(0, 0, 0, 0.15);\n",
              "      filter: drop-shadow(0px 1px 2px rgba(0, 0, 0, 0.3));\n",
              "      fill: #FFFFFF;\n",
              "    }\n",
              "  </style>\n",
              "\n",
              "      <script>\n",
              "        const buttonEl =\n",
              "          document.querySelector('#df-ec1d5719-7655-4e46-b15c-751b823689c4 button.colab-df-convert');\n",
              "        buttonEl.style.display =\n",
              "          google.colab.kernel.accessAllowed ? 'block' : 'none';\n",
              "\n",
              "        async function convertToInteractive(key) {\n",
              "          const element = document.querySelector('#df-ec1d5719-7655-4e46-b15c-751b823689c4');\n",
              "          const dataTable =\n",
              "            await google.colab.kernel.invokeFunction('convertToInteractive',\n",
              "                                                     [key], {});\n",
              "          if (!dataTable) return;\n",
              "\n",
              "          const docLinkHtml = 'Like what you see? Visit the ' +\n",
              "            '<a target=\"_blank\" href=https://colab.research.google.com/notebooks/data_table.ipynb>data table notebook</a>'\n",
              "            + ' to learn more about interactive tables.';\n",
              "          element.innerHTML = '';\n",
              "          dataTable['output_type'] = 'display_data';\n",
              "          await google.colab.output.renderOutput(dataTable, element);\n",
              "          const docLink = document.createElement('div');\n",
              "          docLink.innerHTML = docLinkHtml;\n",
              "          element.appendChild(docLink);\n",
              "        }\n",
              "      </script>\n",
              "    </div>\n",
              "  </div>\n",
              "  "
            ]
          },
          "metadata": {},
          "execution_count": 20
        }
      ]
    },
    {
      "cell_type": "code",
      "source": [
        "train_results.plot()"
      ],
      "metadata": {
        "colab": {
          "base_uri": "https://localhost:8080/",
          "height": 282
        },
        "id": "CWF4yCk30r07",
        "outputId": "d235c974-407e-4b25-c3e3-c8bd758eefd2"
      },
      "execution_count": null,
      "outputs": [
        {
          "output_type": "execute_result",
          "data": {
            "text/plain": [
              "<matplotlib.axes._subplots.AxesSubplot at 0x7f9f824f2070>"
            ]
          },
          "metadata": {},
          "execution_count": 21
        },
        {
          "output_type": "display_data",
          "data": {
            "text/plain": [
              "<Figure size 432x288 with 1 Axes>"
            ],
            "image/png": "[encoded data removed]"
          },
          "metadata": {
            "needs_background": "light"
          }
        }
      ]
    },
    {
      "cell_type": "code",
      "source": [
        "predictions_real=(train_results[\"Train Predictions\"]*np.std(freight_df[\"Ocean Freight rate\"]))+np.mean(freight_df[\"Ocean Freight rate\"])\n",
        "predictions_real=pd.DataFrame(predictions_real)\n",
        "predictions_real.index=freight_df.iloc[3:,:].index\n",
        "predictions_real[\"Ocean Freight rate\"]=freight_df[\"Ocean Freight rate\"]\n",
        "\n",
        "predictions_real.plot()\n",
        "predictions_real.head()"
      ],
      "metadata": {
        "id": "Hxjeuq8MN7DK"
      },
      "execution_count": null,
      "outputs": []
    },
    {
      "cell_type": "code",
      "source": [
        "predictions_real.plot()"
      ],
      "metadata": {
        "colab": {
          "base_uri": "https://localhost:8080/",
          "height": 294
        },
        "id": "sVWl3yvf-EI4",
        "outputId": "a2aa1137-7639-44d9-db4f-c32d14d16bc8"
      },
      "execution_count": null,
      "outputs": [
        {
          "output_type": "execute_result",
          "data": {
            "text/plain": [
              "<matplotlib.axes._subplots.AxesSubplot at 0x7f9f81651d00>"
            ]
          },
          "metadata": {},
          "execution_count": 26
        },
        {
          "output_type": "display_data",
          "data": {
            "text/plain": [
              "<Figure size 432x288 with 1 Axes>"
            ],
            "image/png": "[encoded data removed]"
          },
          "metadata": {
            "needs_background": "light"
          }
        }
      ]
    },
    {
      "cell_type": "code",
      "source": [
        "predictions_real.tail(10)"
      ],
      "metadata": {
        "colab": {
          "base_uri": "https://localhost:8080/",
          "height": 394
        },
        "id": "si6XQonu-6X_",
        "outputId": "daf7b7c1-5d24-460e-b141-eb6ba71c827c"
      },
      "execution_count": null,
      "outputs": [
        {
          "output_type": "execute_result",
          "data": {
            "text/plain": [
              "               Train Predictions  Ocean Freight rate\n",
              "Validity From                                       \n",
              "2022-12-16            276.675781                 202\n",
              "2022-12-21            238.938965                 102\n",
              "2023-01-01            187.642090                 202\n",
              "2023-01-06            164.730225                 152\n",
              "2023-01-10            166.262451                  52\n",
              "2023-01-13            175.882568                  52\n",
              "2023-02-01            157.996826                 302\n",
              "2023-02-07            237.816650                 302\n",
              "2023-02-15            346.844238                 502\n",
              "2023-02-17            514.399658                 502"
            ],
            "text/html": [
              "\n",
              "  <div id=\"df-6a3d2702-b19b-4cde-8491-84e734dfdf79\">\n",
              "    <div class=\"colab-df-container\">\n",
              "      <div>\n",
              "<style scoped>\n",
              "    .dataframe tbody tr th:only-of-type {\n",
              "        vertical-align: middle;\n",
              "    }\n",
              "\n",
              "    .dataframe tbody tr th {\n",
              "        vertical-align: top;\n",
              "    }\n",
              "\n",
              "    .dataframe thead th {\n",
              "        text-align: right;\n",
              "    }\n",
              "</style>\n",
              "<table border=\"1\" class=\"dataframe\">\n",
              "  <thead>\n",
              "    <tr style=\"text-align: right;\">\n",
              "      <th></th>\n",
              "      <th>Train Predictions</th>\n",
              "      <th>Ocean Freight rate</th>\n",
              "    </tr>\n",
              "    <tr>\n",
              "      <th>Validity From</th>\n",
              "      <th></th>\n",
              "      <th></th>\n",
              "    </tr>\n",
              "  </thead>\n",
              "  <tbody>\n",
              "    <tr>\n",
              "      <th>2022-12-16</th>\n",
              "      <td>276.675781</td>\n",
              "      <td>202</td>\n",
              "    </tr>\n",
              "    <tr>\n",
              "      <th>2022-12-21</th>\n",
              "      <td>238.938965</td>\n",
              "      <td>102</td>\n",
              "    </tr>\n",
              "    <tr>\n",
              "      <th>2023-01-01</th>\n",
              "      <td>187.642090</td>\n",
              "      <td>202</td>\n",
              "    </tr>\n",
              "    <tr>\n",
              "      <th>2023-01-06</th>\n",
              "      <td>164.730225</td>\n",
              "      <td>152</td>\n",
              "    </tr>\n",
              "    <tr>\n",
              "      <th>2023-01-10</th>\n",
              "      <td>166.262451</td>\n",
              "      <td>52</td>\n",
              "    </tr>\n",
              "    <tr>\n",
              "      <th>2023-01-13</th>\n",
              "      <td>175.882568</td>\n",
              "      <td>52</td>\n",
              "    </tr>\n",
              "    <tr>\n",
              "      <th>2023-02-01</th>\n",
              "      <td>157.996826</td>\n",
              "      <td>302</td>\n",
              "    </tr>\n",
              "    <tr>\n",
              "      <th>2023-02-07</th>\n",
              "      <td>237.816650</td>\n",
              "      <td>302</td>\n",
              "    </tr>\n",
              "    <tr>\n",
              "      <th>2023-02-15</th>\n",
              "      <td>346.844238</td>\n",
              "      <td>502</td>\n",
              "    </tr>\n",
              "    <tr>\n",
              "      <th>2023-02-17</th>\n",
              "      <td>514.399658</td>\n",
              "      <td>502</td>\n",
              "    </tr>\n",
              "  </tbody>\n",
              "</table>\n",
              "</div>\n",
              "      <button class=\"colab-df-convert\" onclick=\"convertToInteractive('df-6a3d2702-b19b-4cde-8491-84e734dfdf79')\"\n",
              "              title=\"Convert this dataframe to an interactive table.\"\n",
              "              style=\"display:none;\">\n",
              "        \n",
              "  <svg xmlns=\"http://www.w3.org/2000/svg\" height=\"24px\"viewBox=\"0 0 24 24\"\n",
              "       width=\"24px\">\n",
              "    <path d=\"M0 0h24v24H0V0z\" fill=\"none\"/>\n",
              "    <path d=\"M18.56 5.44l.94 2.06.94-2.06 2.06-.94-2.06-.94-.94-2.06-.94 2.06-2.06.94zm-11 1L8.5 8.5l.94-2.06 2.06-.94-2.06-.94L8.5 2.5l-.94 2.06-2.06.94zm10 10l.94 2.06.94-2.06 2.06-.94-2.06-.94-.94-2.06-.94 2.06-2.06.94z\"/><path d=\"M17.41 7.96l-1.37-1.37c-.4-.4-.92-.59-1.43-.59-.52 0-1.04.2-1.43.59L10.3 9.45l-7.72 7.72c-.78.78-.78 2.05 0 2.83L4 21.41c.39.39.9.59 1.41.59.51 0 1.02-.2 1.41-.59l7.78-7.78 2.81-2.81c.8-.78.8-2.07 0-2.86zM5.41 20L4 18.59l7.72-7.72 1.47 1.35L5.41 20z\"/>\n",
              "  </svg>\n",
              "      </button>\n",
              "      \n",
              "  <style>\n",
              "    .colab-df-container {\n",
              "      display:flex;\n",
              "      flex-wrap:wrap;\n",
              "      gap: 12px;\n",
              "    }\n",
              "\n",
              "    .colab-df-convert {\n",
              "      background-color: #E8F0FE;\n",
              "      border: none;\n",
              "      border-radius: 50%;\n",
              "      cursor: pointer;\n",
              "      display: none;\n",
              "      fill: #1967D2;\n",
              "      height: 32px;\n",
              "      padding: 0 0 0 0;\n",
              "      width: 32px;\n",
              "    }\n",
              "\n",
              "    .colab-df-convert:hover {\n",
              "      background-color: #E2EBFA;\n",
              "      box-shadow: 0px 1px 2px rgba(60, 64, 67, 0.3), 0px 1px 3px 1px rgba(60, 64, 67, 0.15);\n",
              "      fill: #174EA6;\n",
              "    }\n",
              "\n",
              "    [theme=dark] .colab-df-convert {\n",
              "      background-color: #3B4455;\n",
              "      fill: #D2E3FC;\n",
              "    }\n",
              "\n",
              "    [theme=dark] .colab-df-convert:hover {\n",
              "      background-color: #434B5C;\n",
              "      box-shadow: 0px 1px 3px 1px rgba(0, 0, 0, 0.15);\n",
              "      filter: drop-shadow(0px 1px 2px rgba(0, 0, 0, 0.3));\n",
              "      fill: #FFFFFF;\n",
              "    }\n",
              "  </style>\n",
              "\n",
              "      <script>\n",
              "        const buttonEl =\n",
              "          document.querySelector('#df-6a3d2702-b19b-4cde-8491-84e734dfdf79 button.colab-df-convert');\n",
              "        buttonEl.style.display =\n",
              "          google.colab.kernel.accessAllowed ? 'block' : 'none';\n",
              "\n",
              "        async function convertToInteractive(key) {\n",
              "          const element = document.querySelector('#df-6a3d2702-b19b-4cde-8491-84e734dfdf79');\n",
              "          const dataTable =\n",
              "            await google.colab.kernel.invokeFunction('convertToInteractive',\n",
              "                                                     [key], {});\n",
              "          if (!dataTable) return;\n",
              "\n",
              "          const docLinkHtml = 'Like what you see? Visit the ' +\n",
              "            '<a target=\"_blank\" href=https://colab.research.google.com/notebooks/data_table.ipynb>data table notebook</a>'\n",
              "            + ' to learn more about interactive tables.';\n",
              "          element.innerHTML = '';\n",
              "          dataTable['output_type'] = 'display_data';\n",
              "          await google.colab.output.renderOutput(dataTable, element);\n",
              "          const docLink = document.createElement('div');\n",
              "          docLink.innerHTML = docLinkHtml;\n",
              "          element.appendChild(docLink);\n",
              "        }\n",
              "      </script>\n",
              "    </div>\n",
              "  </div>\n",
              "  "
            ]
          },
          "metadata": {},
          "execution_count": 33
        }
      ]
    },
    {
      "cell_type": "code",
      "source": [
        "u=np.mean(freight_df[\"Ocean Freight rate\"])\n",
        "sigma=np.std(freight_df[\"Ocean Freight rate\"])\n",
        "u,sigma"
      ],
      "metadata": {
        "colab": {
          "base_uri": "https://localhost:8080/"
        },
        "id": "K4_VXNj3-Qbk",
        "outputId": "ec1bba1d-f785-4856-b2c9-06d9c9e704a8"
      },
      "execution_count": null,
      "outputs": [
        {
          "output_type": "execute_result",
          "data": {
            "text/plain": [
              "(3286.3529411764707, 2506.436278186421)"
            ]
          },
          "metadata": {},
          "execution_count": 28
        }
      ]
    },
    {
      "cell_type": "code",
      "source": [
        "data_final.head()\n",
        "data_final2=data_final.append({\"Ocean Freight\":0,\"Day sin\":0,\"Day cos\":0,\"Year sin\":0,\"Year cos\":0},ignore_index=True)\n",
        "xtrain2,ytrain2=df_to_X_y2(data_final2,window_size=3)\n",
        "train_predictions2 = model.predict(xtrain2).flatten()\n",
        "train_predictions2"
      ],
      "metadata": {
        "colab": {
          "base_uri": "https://localhost:8080/"
        },
        "id": "CTdQmi9Y-aaY",
        "outputId": "29248949-5a1b-4a22-9c73-3420c97b6ebc"
      },
      "execution_count": null,
      "outputs": [
        {
          "output_type": "stream",
          "name": "stdout",
          "text": [
            "3/3 [==============================] - 0s 3ms/step\n"
          ]
        },
        {
          "output_type": "execute_result",
          "data": {
            "text/plain": [
              "array([ 0.6844479 ,  0.66543114,  0.6435236 ,  0.6484635 ,  0.64617634,\n",
              "        0.63777167,  0.62339777,  0.59840024,  0.5770331 ,  0.54784083,\n",
              "        0.5308394 ,  0.5075534 ,  0.49416944,  0.48074892,  0.4705229 ,\n",
              "        0.45954958,  0.45147404,  0.4513569 ,  0.45947006,  0.47409567,\n",
              "        0.4897835 ,  0.5101373 ,  0.5339457 ,  0.54679275,  0.516854  ,\n",
              "        0.46375197,  0.39498952,  0.34400246,  0.27855918,  0.1937366 ,\n",
              "        0.09909223, -0.04771235, -0.18774316, -0.3159861 , -0.43883285,\n",
              "       -0.5568115 , -0.64636415, -0.71707714, -0.7775637 , -0.83191967,\n",
              "       -0.8657474 , -0.7896903 , -0.7111082 , -0.6115572 , -0.6334903 ,\n",
              "       -0.636728  , -0.71716154, -0.77787566, -0.89613676, -0.99303234,\n",
              "       -1.0863707 , -1.1273416 , -1.1411413 , -1.1648477 , -1.1828396 ,\n",
              "       -1.2007794 , -1.2158355 , -1.2363015 , -1.2454427 , -1.2448314 ,\n",
              "       -1.2409933 , -1.2481291 , -1.2162832 , -1.1727842 , -1.1059341 ,\n",
              "       -1.0722153 ], dtype=float32)"
            ]
          },
          "metadata": {},
          "execution_count": 36
        }
      ]
    },
    {
      "cell_type": "code",
      "source": [
        "first_march=((((train_predictions2[65]*sigma)+u)/502)-1)*100\n",
        "print(\"La variación porcentual para los primeros días de marzo es de aproximadamente: \"+str(first_march)+\"%\")"
      ],
      "metadata": {
        "colab": {
          "base_uri": "https://localhost:8080/"
        },
        "id": "0YJBO3a6CKCD",
        "outputId": "bb77b714-e6d9-4c55-9a1d-f6d984394ff6"
      },
      "execution_count": null,
      "outputs": [
        {
          "output_type": "stream",
          "name": "stdout",
          "text": [
            "La variación porcentual para los primeros días de marzo es de aproximadamente: 19.305491715175616%\n"
          ]
        }
      ]
    }
  ]
}